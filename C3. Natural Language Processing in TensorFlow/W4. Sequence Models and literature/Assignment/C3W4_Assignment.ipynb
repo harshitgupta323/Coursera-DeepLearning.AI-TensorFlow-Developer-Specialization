{
 "cells": [
  {
   "cell_type": "markdown",
   "metadata": {
    "deletable": false,
    "editable": false,
    "id": "bFWbEb6uGbN-"
   },
   "source": [
    "# Week 4: Predicting the next word\n",
    "\n",
    "Welcome to this assignment! During this week you saw how to create a model that will predict the next word in a text sequence, now you will implement such model and train it using a corpus of [Shakespeare Sonnets](https://www.opensourceshakespeare.org/views/sonnets/sonnet_view.php?range=viewrange&sonnetrange1=1&sonnetrange2=154), while also creating some helper functions to pre-process the data."
   ]
  },
  {
   "cell_type": "markdown",
   "metadata": {
    "deletable": false,
    "editable": false
   },
   "source": [
    "#### TIPS FOR SUCCESSFUL GRADING OF YOUR ASSIGNMENT:\n",
    "\n",
    "- All cells are frozen except for the ones where you need to submit your solutions or when explicitly mentioned you can interact with it.\n",
    "\n",
    "\n",
    "- You can add new cells to experiment but these will be omitted by the grader, so don't rely on newly created cells to host your solution code, use the provided places for this.\n",
    "- You can add the comment # grade-up-to-here in any graded cell to signal the grader that it must only evaluate up to that point. This is helpful if you want to check if you are on the right track even if you are not done with the whole assignment. Be sure to remember to delete the comment afterwards!\n",
    "- Avoid using global variables unless you absolutely have to. The grader tests your code in an isolated environment without running all cells from the top. As a result, global variables may be unavailable when scoring your submission. Global variables that are meant to be used will be defined in UPPERCASE.\n",
    "\n",
    "- To submit your notebook, save it and then click on the blue submit button at the beginning of the page.\n",
    "\n",
    "Let's get started!"
   ]
  },
  {
   "cell_type": "code",
   "execution_count": 1,
   "metadata": {
    "deletable": false,
    "editable": false,
    "id": "BOwsuGQQY9OL",
    "tags": [
     "graded"
    ]
   },
   "outputs": [],
   "source": [
    "import numpy as np \n",
    "import matplotlib.pyplot as plt\n",
    "import tensorflow as tf\n",
    "import pickle"
   ]
  },
  {
   "cell_type": "code",
   "execution_count": 2,
   "metadata": {
    "deletable": false,
    "editable": false
   },
   "outputs": [],
   "source": [
    "import unittests"
   ]
  },
  {
   "cell_type": "markdown",
   "metadata": {
    "deletable": false,
    "editable": false
   },
   "source": [
    "## Defining some useful global variables\n",
    "\n",
    "Next you will define some global variables that will be used throughout the assignment. Feel free to reference them in the upcoming exercises:\n",
    "\n",
    "- `FILE_PATH`: The file path where the sonnets file is located. \n",
    "\n",
    "- `NUM_BATCHES`: Number of batches. Defaults to 16.\n",
    "- `LSTM_UNITS`: Number of LSTM units in the LSTM layer.\n",
    "- `EMBEDDING_DIM`: Number of dimensions in the embedding layer."
   ]
  },
  {
   "cell_type": "code",
   "execution_count": 3,
   "metadata": {
    "deletable": false,
    "editable": false,
    "tags": [
     "graded"
    ]
   },
   "outputs": [],
   "source": [
    "FILE_PATH = './data/sonnets.txt'\n",
    "NUM_BATCHES = 16\n",
    "LSTM_UNITS = 128\n",
    "EMBEDDING_DIM = 100"
   ]
  },
  {
   "cell_type": "markdown",
   "metadata": {},
   "source": [
    "**A note about grading:**\n",
    "\n",
    "**When you submit this assignment for grading these same values for these globals will be used so make sure that all your code works well with these values. After submitting and passing this assignment, you are encouraged to come back here and play with these parameters to see the impact they have in the classification process. Since this next cell is frozen, you will need to copy the contents into a new cell and run it to overwrite the values for these globals.**"
   ]
  },
  {
   "cell_type": "markdown",
   "metadata": {
    "deletable": false,
    "editable": false
   },
   "source": [
    "### Reading the dataset\n",
    "\n",
    "For this assignment you will be using the [Shakespeare Sonnets Dataset](https://www.opensourceshakespeare.org/views/sonnets/sonnet_view.php?range=viewrange&sonnetrange1=1&sonnetrange2=154), which contains more than 2000 lines of text extracted from Shakespeare's sonnets."
   ]
  },
  {
   "cell_type": "code",
   "execution_count": 4,
   "metadata": {
    "deletable": false,
    "editable": false,
    "id": "Pfd-nYKij5yY"
   },
   "outputs": [
    {
     "name": "stdout",
     "output_type": "stream",
     "text": [
      "There are 2159 lines of sonnets\n",
      "\n",
      "The first 5 lines look like this:\n",
      "\n",
      "from fairest creatures we desire increase,\n",
      "that thereby beauty's rose might never die,\n",
      "but as the riper should by time decease,\n",
      "his tender heir might bear his memory:\n",
      "but thou, contracted to thine own bright eyes,\n"
     ]
    }
   ],
   "source": [
    "# Read the data\n",
    "with open(FILE_PATH) as f:\n",
    "    data = f.read()\n",
    "\n",
    "# Convert to lower case and save as a list\n",
    "corpus = data.lower().split(\"\\n\")\n",
    "\n",
    "print(f\"There are {len(corpus)} lines of sonnets\\n\")\n",
    "print(f\"The first 5 lines look like this:\\n\")\n",
    "for i in range(5):\n",
    "  print(corpus[i])"
   ]
  },
  {
   "cell_type": "markdown",
   "metadata": {
    "deletable": false,
    "editable": false,
    "id": "imB15zrSNhA1"
   },
   "source": [
    "## Exercise 1: fit_vectorizer\n",
    "\n",
    "In this exercise, you will use the [tf.keras.layers.TextVectorization layer](https://www.tensorflow.org/api_docs/python/tf/keras/layers/TextVectorization) to tokenize and transform the text into numeric values. \n",
    "\n",
    "Note that in this case you will not pad the sentences right now as you've done before, because you need to build the n-grams before padding, so pay attention with the appropriate arguments passed to the TextVectorization layer!\n",
    "\n",
    "**Note**:\n",
    "- You should remove the punctuation and use only lowercase words, so you must pass the correct argument to TextVectorization layer.\n",
    "\n",
    "- In this case you will not pad the sentences with the TextVectorization layer as you've done before, because you need to build the n-grams before padding. Remember that by default, the TextVectorization layer will return a Tensor and therefore every element in it must have the same size, so if you pass two sentences of different length to be parsed, they will be padded. If you do not want to do that, you need to either pass the parameter ragged=True, or pass only a single sentence at the time. Later on in the assignment you will build the n-grams and depending on how you will iterate over the sentences, this may be important. If you choose to first pass the entire corpus to the TextVectorization and then perform the iteration, then you should pass ragged=True, otherwise, if you use the TextVectorization on each sentence separately, then you should not worry about it.\n"
   ]
  },
  {
   "cell_type": "code",
   "execution_count": 5,
   "metadata": {
    "deletable": false,
    "tags": [
     "graded"
    ]
   },
   "outputs": [],
   "source": [
    "def fit_vectorizer(corpus):\n",
    "    \"\"\"\n",
    "    Instantiates the vectorizer class on the corpus\n",
    "    \n",
    "    Args:\n",
    "        corpus (list): List with the sentences.\n",
    "    \n",
    "    Returns:\n",
    "        (tf.keras.layers.TextVectorization): an instance of the TextVectorization class containing the word-index dictionary, adapted to the corpus sentences.\n",
    "    \"\"\"    \n",
    "\n",
    "    tf.keras.utils.set_random_seed(65) # Do not change this line or you may have different expected outputs throughout the assignment\n",
    "\n",
    "    ### START CODE HERE ###\n",
    "\n",
    "    # Define the object\n",
    "    vectorizer = tf.keras.layers.TextVectorization(standardize=\"lower_and_strip_punctuation\", ragged=True)\n",
    "    \n",
    "    # Adapt it to the corpus\n",
    "    vectorizer.adapt(corpus)\n",
    "\n",
    "    ### END CODE HERE ###\n",
    "    \n",
    "    return vectorizer"
   ]
  },
  {
   "cell_type": "code",
   "execution_count": 6,
   "metadata": {
    "deletable": false,
    "editable": false
   },
   "outputs": [
    {
     "name": "stdout",
     "output_type": "stream",
     "text": [
      "Total number of words in corpus (including the out of vocabulary): 3189\n"
     ]
    }
   ],
   "source": [
    "vectorizer = fit_vectorizer(corpus)\n",
    "total_words = len(vectorizer.get_vocabulary())\n",
    "print(f\"Total number of words in corpus (including the out of vocabulary): {total_words}\")"
   ]
  },
  {
   "cell_type": "markdown",
   "metadata": {
    "deletable": false,
    "editable": false
   },
   "source": [
    "**Expected output:**\n",
    "\n",
    "```\n",
    "Total number of words in corpus (including the out of vocabulary): 3189\n",
    "```"
   ]
  },
  {
   "cell_type": "markdown",
   "metadata": {
    "id": "77-0sA46OETa"
   },
   "source": [
    "One thing to note is that you can either pass a string or a list of strings to vectorizer. If you pass the former, it will return a *tensor* whereas if you pass the latter, it will return a *ragged tensor* if you've correctly configured the TextVectorization layer to do so."
   ]
  },
  {
   "cell_type": "code",
   "execution_count": 7,
   "metadata": {
    "deletable": false,
    "editable": false,
    "id": "tqhPxdeXlfjh"
   },
   "outputs": [
    {
     "name": "stdout",
     "output_type": "stream",
     "text": [
      "Passing a string directly: <tf.Tensor: shape=(5,), dtype=int64, numpy=array([  29,   14,   18,    1, 1679])>\n",
      "Passing a list of strings: <tf.RaggedTensor [[29, 14, 18, 1, 1679]]>\n"
     ]
    }
   ],
   "source": [
    "print(f\"Passing a string directly: {vectorizer('This is a test string').__repr__()}\")\n",
    "print(f\"Passing a list of strings: {vectorizer(['This is a test string'])}\")"
   ]
  },
  {
   "cell_type": "markdown",
   "metadata": {
    "deletable": false,
    "editable": false
   },
   "source": [
    "**Expected output:**\n",
    "\n",
    "```\n",
    "Passing a string directly: <tf.Tensor: shape=(5,), dtype=int64, numpy=array([  29,   14,   18,    1, 1679])>\n",
    "Passing a list of strings: <tf.RaggedTensor [[29, 14, 18, 1, 1679]]>\n",
    "```"
   ]
  },
  {
   "cell_type": "code",
   "execution_count": 8,
   "metadata": {},
   "outputs": [
    {
     "name": "stdout",
     "output_type": "stream",
     "text": [
      "\u001b[92m All tests passed!\n"
     ]
    }
   ],
   "source": [
    "# Test your code!\n",
    "unittests.test_fit_vectorizer(fit_vectorizer)"
   ]
  },
  {
   "cell_type": "markdown",
   "metadata": {
    "deletable": false,
    "editable": false,
    "id": "-oqy9KjXRJ9A"
   },
   "source": [
    "## Generating n-grams\n",
    "\n",
    "As you saw in the lecture, the idea now is to generate the n-grams for each sentence in the corpus. So, for instance, if a vectorized sentence is given by `[45, 75, 195, 879]`, you must generate the following vectors:\n",
    "\n",
    "```Python\n",
    "[45, 75]\n",
    "[45, 75, 195]\n",
    "[45, 75, 195, 879]\n",
    "```\n",
    "## Exercise 2: n_grams_seqs\n",
    "\n",
    "Now complete the `n_gram_seqs` function below. This function receives the fitted vectorizer and the corpus (which is a list of strings) and should return a list containing the `n_gram` sequences for each line in the corpus.\n",
    "\n",
    "**NOTE:**\n",
    "\n",
    "- If you pass `vectorizer(sentence)` the result is not padded, whereas if you pass `vectorizer(list_of_sentences)`, the result won't be padded **only if you passed the argument `ragged = True`** in the TextVectorization setup.\n",
    "- This exercise directly depends on the previous one, because you need to pass the defined vectorizer as a parameter, so any error thrown in the previous exercise may propagate here."
   ]
  },
  {
   "cell_type": "code",
   "execution_count": 9,
   "metadata": {
    "scrolled": true
   },
   "outputs": [
    {
     "data": {
      "text/plain": [
       "['from fairest creatures we desire increase,',\n",
       " \"that thereby beauty's rose might never die,\",\n",
       " 'but as the riper should by time decease,',\n",
       " 'his tender heir might bear his memory:',\n",
       " 'but thou, contracted to thine own bright eyes,',\n",
       " \"feed'st thy light'st flame with self-substantial fuel,\",\n",
       " 'making a famine where abundance lies,',\n",
       " 'thyself thy foe, to thy sweet self too cruel.',\n",
       " \"thou that art now the world's fresh ornament\",\n",
       " 'and only herald to the gaudy spring,',\n",
       " 'within thine own bud buriest thy content',\n",
       " 'and, tender churl, makest waste in niggarding.',\n",
       " 'pity the world, or else this glutton be,',\n",
       " \"to eat the world's due, by the grave and thee.\",\n",
       " 'when forty winters shall beseige thy brow,',\n",
       " \"and dig deep trenches in thy beauty's field,\",\n",
       " \"thy youth's proud livery, so gazed on now,\",\n",
       " \"will be a tatter'd weed, of small worth held:\",\n",
       " \"then being ask'd where all thy beauty lies,\",\n",
       " 'where all the treasure of thy lusty days,',\n",
       " 'to say, within thine own deep-sunken eyes,',\n",
       " 'were an all-eating shame and thriftless praise.',\n",
       " \"how much more praise deserved thy beauty's use,\",\n",
       " \"if thou couldst answer 'this fair child of mine\",\n",
       " \"shall sum my count and make my old excuse,'\",\n",
       " 'proving his beauty by succession thine!',\n",
       " 'this were to be new made when thou art old,',\n",
       " \"and see thy blood warm when thou feel'st it cold.\",\n",
       " 'look in thy glass, and tell the face thou viewest',\n",
       " 'now is the time that face should form another;',\n",
       " 'whose fresh repair if now thou not renewest,',\n",
       " 'thou dost beguile the world, unbless some mother.',\n",
       " \"for where is she so fair whose unear'd womb\",\n",
       " 'disdains the tillage of thy husbandry?',\n",
       " 'or who is he so fond will be the tomb',\n",
       " 'of his self-love, to stop posterity?',\n",
       " \"thou art thy mother's glass, and she in thee\",\n",
       " 'calls back the lovely april of her prime:',\n",
       " 'so thou through windows of thine age shall see',\n",
       " 'despite of wrinkles this thy golden time.',\n",
       " \"but if thou live, remember'd not to be,\",\n",
       " 'die single, and thine image dies with thee.',\n",
       " 'unthrifty loveliness, why dost thou spend',\n",
       " \"upon thyself thy beauty's legacy?\",\n",
       " \"nature's bequest gives nothing but doth lend,\",\n",
       " 'and being frank she lends to those are free.',\n",
       " 'then, beauteous niggard, why dost thou abuse',\n",
       " 'the bounteous largess given thee to give?',\n",
       " 'profitless usurer, why dost thou use',\n",
       " 'so great a sum of sums, yet canst not live?',\n",
       " 'for having traffic with thyself alone,',\n",
       " 'thou of thyself thy sweet self dost deceive.',\n",
       " 'then how, when nature calls thee to be gone,',\n",
       " 'what acceptable audit canst thou leave?',\n",
       " \"thy unused beauty must be tomb'd with thee,\",\n",
       " \"which, used, lives th' executor to be.\",\n",
       " 'those hours, that with gentle work did frame',\n",
       " 'the lovely gaze where every eye doth dwell,',\n",
       " 'will play the tyrants to the very same',\n",
       " 'and that unfair which fairly doth excel:',\n",
       " 'for never-resting time leads summer on',\n",
       " 'to hideous winter and confounds him there;',\n",
       " \"sap check'd with frost and lusty leaves quite gone,\",\n",
       " \"beauty o'ersnow'd and bareness every where:\",\n",
       " \"then, were not summer's distillation left,\",\n",
       " 'a liquid prisoner pent in walls of glass,',\n",
       " \"beauty's effect with beauty were bereft,\",\n",
       " 'nor it nor no remembrance what it was:',\n",
       " \"but flowers distill'd though they with winter meet,\",\n",
       " 'leese but their show; their substance still lives sweet.',\n",
       " \"then let not winter's ragged hand deface\",\n",
       " \"in thee thy summer, ere thou be distill'd:\",\n",
       " 'make sweet some vial; treasure thou some place',\n",
       " \"with beauty's treasure, ere it be self-kill'd.\",\n",
       " 'that use is not forbidden usury,',\n",
       " 'which happies those that pay the willing loan;',\n",
       " \"that's for thyself to breed another thee,\",\n",
       " 'or ten times happier, be it ten for one;',\n",
       " 'ten times thyself were happier than thou art,',\n",
       " 'if ten of thine ten times refigured thee:',\n",
       " 'then what could death do, if thou shouldst depart,',\n",
       " 'leaving thee living in posterity?',\n",
       " \"be not self-will'd, for thou art much too fair\",\n",
       " \"to be death's conquest and make worms thine heir.\",\n",
       " 'lo! in the orient when the gracious light',\n",
       " 'lifts up his burning head, each under eye',\n",
       " 'doth homage to his new-appearing sight,',\n",
       " 'serving with looks his sacred majesty;',\n",
       " \"and having climb'd the steep-up heavenly hill,\",\n",
       " 'resembling strong youth in his middle age,',\n",
       " 'yet mortal looks adore his beauty still,',\n",
       " 'attending on his golden pilgrimage;',\n",
       " 'but when from highmost pitch, with weary car,',\n",
       " 'like feeble age, he reeleth from the day,',\n",
       " \"the eyes, 'fore duteous, now converted are\",\n",
       " 'from his low tract and look another way:',\n",
       " 'so thou, thyself out-going in thy noon,',\n",
       " \"unlook'd on diest, unless thou get a son.\",\n",
       " \"music to hear, why hear'st thou music sadly?\",\n",
       " 'sweets with sweets war not, joy delights in joy.',\n",
       " 'why lovest thou that which thou receivest not gladly,',\n",
       " 'or else receivest with pleasure thine annoy?',\n",
       " 'if the true concord of well-tuned sounds,',\n",
       " 'by unions married, do offend thine ear,',\n",
       " 'they do but sweetly chide thee, who confounds',\n",
       " 'in singleness the parts that thou shouldst bear.',\n",
       " 'mark how one string, sweet husband to another,',\n",
       " 'strikes each in each by mutual ordering,',\n",
       " 'resembling sire and child and happy mother',\n",
       " 'who all in one, one pleasing note do sing:',\n",
       " 'whose speechless song, being many, seeming one,',\n",
       " \"sings this to thee: 'thou single wilt prove none.'\",\n",
       " \"is it for fear to wet a widow's eye\",\n",
       " 'that thou consumest thyself in single life?',\n",
       " 'ah! if thou issueless shalt hap to die.',\n",
       " 'the world will wail thee, like a makeless wife;',\n",
       " 'the world will be thy widow and still weep',\n",
       " 'that thou no form of thee hast left behind,',\n",
       " 'when every private widow well may keep',\n",
       " \"by children's eyes her husband's shape in mind.\",\n",
       " 'look, what an unthrift in the world doth spend',\n",
       " 'shifts but his place, for still the world enjoys it;',\n",
       " \"but beauty's waste hath in the world an end,\",\n",
       " 'and kept unused, the user so destroys it.',\n",
       " 'no love toward others in that bosom sits',\n",
       " 'that on himself such murderous shame commits.',\n",
       " \"for shame! deny that thou bear'st love to any,\",\n",
       " 'who for thyself art so unprovident.',\n",
       " 'grant, if thou wilt, thou art beloved of many,',\n",
       " 'but that thou none lovest is most evident;',\n",
       " \"for thou art so possess'd with murderous hate\",\n",
       " \"that 'gainst thyself thou stick'st not to conspire.\",\n",
       " 'seeking that beauteous roof to ruinate',\n",
       " 'which to repair should be thy chief desire.',\n",
       " 'o, change thy thought, that i may change my mind!',\n",
       " 'shall hate be fairer lodged than gentle love?',\n",
       " 'be, as thy presence is, gracious and kind,',\n",
       " 'or to thyself at least kind-hearted prove:',\n",
       " 'make thee another self, for love of me,',\n",
       " 'that beauty still may live in thine or thee.',\n",
       " 'as fast as thou shalt wane, so fast thou growest',\n",
       " 'in one of thine, from that which thou departest;',\n",
       " 'and that fresh blood which youngly thou bestowest',\n",
       " 'thou mayst call thine when thou from youth convertest.',\n",
       " 'herein lives wisdom, beauty and increase:',\n",
       " 'without this, folly, age and cold decay:',\n",
       " 'if all were minded so, the times should cease',\n",
       " 'and threescore year would make the world away.',\n",
       " 'let those whom nature hath not made for store,',\n",
       " 'harsh featureless and rude, barrenly perish:',\n",
       " \"look, whom she best endow'd she gave the more;\",\n",
       " 'which bounteous gift thou shouldst in bounty cherish:',\n",
       " 'she carved thee for her seal, and meant thereby',\n",
       " 'thou shouldst print more, not let that copy die.',\n",
       " 'when i do count the clock that tells the time,',\n",
       " 'and see the brave day sunk in hideous night;',\n",
       " 'when i behold the violet past prime,',\n",
       " \"and sable curls all silver'd o'er with white;\",\n",
       " 'when lofty trees i see barren of leaves',\n",
       " 'which erst from heat did canopy the herd,',\n",
       " \"and summer's green all girded up in sheaves\",\n",
       " 'borne on the bier with white and bristly beard,',\n",
       " 'then of thy beauty do i question make,',\n",
       " 'that thou among the wastes of time must go,',\n",
       " 'since sweets and beauties do themselves forsake',\n",
       " 'and die as fast as they see others grow;',\n",
       " \"and nothing 'gainst time's scythe can make defence\",\n",
       " 'save breed, to brave him when he takes thee hence.',\n",
       " 'o, that you were yourself! but, love, you are',\n",
       " 'no longer yours than you yourself here live:',\n",
       " 'against this coming end you should prepare,',\n",
       " 'and your sweet semblance to some other give.',\n",
       " 'so should that beauty which you hold in lease',\n",
       " 'find no determination: then you were',\n",
       " \"yourself again after yourself's decease,\",\n",
       " 'when your sweet issue your sweet form should bear.',\n",
       " 'who lets so fair a house fall to decay,',\n",
       " 'which husbandry in honour might uphold',\n",
       " \"against the stormy gusts of winter's day\",\n",
       " \"and barren rage of death's eternal cold?\",\n",
       " 'o, none but unthrifts! dear my love, you know',\n",
       " 'you had a father: let your son say so.',\n",
       " 'not from the stars do i my judgment pluck;',\n",
       " 'and yet methinks i have astronomy,',\n",
       " 'but not to tell of good or evil luck,',\n",
       " \"of plagues, of dearths, or seasons' quality;\",\n",
       " 'nor can i fortune to brief minutes tell,',\n",
       " 'pointing to each his thunder, rain and wind,',\n",
       " 'or say with princes if it shall go well,',\n",
       " 'by oft predict that i in heaven find:',\n",
       " 'but from thine eyes my knowledge i derive,',\n",
       " 'and, constant stars, in them i read such art',\n",
       " 'as truth and beauty shall together thrive,',\n",
       " 'if from thyself to store thou wouldst convert;',\n",
       " 'or else of thee this i prognosticate:',\n",
       " \"thy end is truth's and beauty's doom and date.\",\n",
       " 'when i consider every thing that grows',\n",
       " 'holds in perfection but a little moment,',\n",
       " 'that this huge stage presenteth nought but shows',\n",
       " 'whereon the stars in secret influence comment;',\n",
       " 'when i perceive that men as plants increase,',\n",
       " \"cheered and check'd even by the self-same sky,\",\n",
       " 'vaunt in their youthful sap, at height decrease,',\n",
       " 'and wear their brave state out of memory;',\n",
       " 'then the conceit of this inconstant stay',\n",
       " 'sets you most rich in youth before my sight,',\n",
       " 'where wasteful time debateth with decay,',\n",
       " 'to change your day of youth to sullied night;',\n",
       " 'and all in war with time for love of you,',\n",
       " 'as he takes from you, i engraft you new.',\n",
       " 'but wherefore do not you a mightier way',\n",
       " 'make war upon this bloody tyrant, time?',\n",
       " 'and fortify yourself in your decay',\n",
       " 'with means more blessed than my barren rhyme?',\n",
       " 'now stand you on the top of happy hours,',\n",
       " 'and many maiden gardens yet unset',\n",
       " 'with virtuous wish would bear your living flowers,',\n",
       " 'much liker than your painted counterfeit:',\n",
       " 'so should the lines of life that life repair,',\n",
       " \"which this, time's pencil, or my pupil pen,\",\n",
       " 'neither in inward worth nor outward fair,',\n",
       " 'can make you live yourself in eyes of men.',\n",
       " 'to give away yourself keeps yourself still,',\n",
       " 'and you must live, drawn by your own sweet skill.',\n",
       " 'who will believe my verse in time to come,',\n",
       " \"if it were fill'd with your most high deserts?\",\n",
       " 'though yet, heaven knows, it is but as a tomb',\n",
       " 'which hides your life and shows not half your parts.',\n",
       " 'if i could write the beauty of your eyes',\n",
       " 'and in fresh numbers number all your graces,',\n",
       " \"the age to come would say 'this poet lies:\",\n",
       " \"such heavenly touches ne'er touch'd earthly faces.'\",\n",
       " \"so should my papers yellow'd with their age\",\n",
       " \"be scorn'd like old men of less truth than tongue,\",\n",
       " \"and your true rights be term'd a poet's rage\",\n",
       " 'and stretched metre of an antique song:',\n",
       " 'but were some child of yours alive that time,',\n",
       " 'you should live twice; in it and in my rhyme.',\n",
       " '',\n",
       " 'xviii.',\n",
       " '',\n",
       " \"shall i compare thee to a summer's day?\",\n",
       " 'thou art more lovely and more temperate:',\n",
       " 'rough winds do shake the darling buds of may,',\n",
       " \"and summer's lease hath all too short a date:\",\n",
       " 'sometime too hot the eye of heaven shines,',\n",
       " \"and often is his gold complexion dimm'd;\",\n",
       " 'and every fair from fair sometime declines,',\n",
       " \"by chance or nature's changing course untrimm'd;\",\n",
       " 'but thy eternal summer shall not fade',\n",
       " 'nor lose possession of that fair thou owest;',\n",
       " \"nor shall death brag thou wander'st in his shade,\",\n",
       " 'when in eternal lines to time thou growest:',\n",
       " 'so long as men can breathe or eyes can see,',\n",
       " 'so long lives this and this gives life to thee.',\n",
       " \"devouring time, blunt thou the lion's paws,\",\n",
       " 'and make the earth devour her own sweet brood;',\n",
       " \"pluck the keen teeth from the fierce tiger's jaws,\",\n",
       " 'and burn the long-lived phoenix in her blood;',\n",
       " 'make glad and sorry seasons as thou fleets,',\n",
       " \"and do whate'er thou wilt, swift-footed time,\",\n",
       " 'to the wide world and all her fading sweets;',\n",
       " 'but i forbid thee one most heinous crime:',\n",
       " \"o, carve not with thy hours my love's fair brow,\",\n",
       " 'nor draw no lines there with thine antique pen;',\n",
       " 'him in thy course untainted do allow',\n",
       " \"for beauty's pattern to succeeding men.\",\n",
       " 'yet, do thy worst, old time: despite thy wrong,',\n",
       " 'my love shall in my verse ever live young.',\n",
       " \"a woman's face with nature's own hand painted\",\n",
       " 'hast thou, the master-mistress of my passion;',\n",
       " \"a woman's gentle heart, but not acquainted\",\n",
       " \"with shifting change, as is false women's fashion;\",\n",
       " 'an eye more bright than theirs, less false in rolling,',\n",
       " 'gilding the object whereupon it gazeth;',\n",
       " \"a man in hue, all 'hues' in his controlling,\",\n",
       " \"much steals men's eyes and women's souls amazeth.\",\n",
       " 'and for a woman wert thou first created;',\n",
       " 'till nature, as she wrought thee, fell a-doting,',\n",
       " 'and by addition me of thee defeated,',\n",
       " 'by adding one thing to my purpose nothing.',\n",
       " \"but since she prick'd thee out for women's pleasure,\",\n",
       " \"mine be thy love and thy love's use their treasure.\",\n",
       " 'so is it not with me as with that muse',\n",
       " \"stirr'd by a painted beauty to his verse,\",\n",
       " 'who heaven itself for ornament doth use',\n",
       " 'and every fair with his fair doth rehearse',\n",
       " 'making a couplement of proud compare,',\n",
       " \"with sun and moon, with earth and sea's rich gems,\",\n",
       " \"with april's first-born flowers, and all things rare\",\n",
       " \"that heaven's air in this huge rondure hems.\",\n",
       " \"o' let me, true in love, but truly write,\",\n",
       " 'and then believe me, my love is as fair',\n",
       " \"as any mother's child, though not so bright\",\n",
       " \"as those gold candles fix'd in heaven's air:\",\n",
       " 'let them say more than like of hearsay well;',\n",
       " 'i will not praise that purpose not to sell.',\n",
       " 'my glass shall not persuade me i am old,',\n",
       " 'so long as youth and thou are of one date;',\n",
       " \"but when in thee time's furrows i behold,\",\n",
       " 'then look i death my days should expiate.',\n",
       " 'for all that beauty that doth cover thee',\n",
       " 'is but the seemly raiment of my heart,',\n",
       " 'which in thy breast doth live, as thine in me:',\n",
       " 'how can i then be elder than thou art?',\n",
       " 'o, therefore, love, be of thyself so wary',\n",
       " 'as i, not for myself, but for thee will;',\n",
       " 'bearing thy heart, which i will keep so chary',\n",
       " 'as tender nurse her babe from faring ill.',\n",
       " 'presume not on thy heart when mine is slain;',\n",
       " 'thou gavest me thine, not to give back again.',\n",
       " 'as an unperfect actor on the stage',\n",
       " 'who with his fear is put besides his part,',\n",
       " 'or some fierce thing replete with too much rage,',\n",
       " \"whose strength's abundance weakens his own heart.\",\n",
       " 'so i, for fear of trust, forget to say',\n",
       " \"the perfect ceremony of love's rite,\",\n",
       " \"and in mine own love's strength seem to decay,\",\n",
       " \"o'ercharged with burden of mine own love's might.\",\n",
       " 'o, let my books be then the eloquence',\n",
       " 'and dumb presagers of my speaking breast,',\n",
       " 'who plead for love and look for recompense',\n",
       " \"more than that tongue that more hath more express'd.\",\n",
       " 'o, learn to read what silent love hath writ:',\n",
       " \"to hear with eyes belongs to love's fine wit.\",\n",
       " \"mine eye hath play'd the painter and hath stell'd\",\n",
       " \"thy beauty's form in table of my heart;\",\n",
       " \"my body is the frame wherein 'tis held,\",\n",
       " \"and perspective it is the painter's art.\",\n",
       " 'for through the painter must you see his skill,',\n",
       " 'to find where your true image pictured lies;',\n",
       " \"which in my bosom's shop is hanging still,\",\n",
       " 'that hath his windows glazed with thine eyes.',\n",
       " 'now see what good turns eyes for eyes have done:',\n",
       " 'mine eyes have drawn thy shape, and thine for me',\n",
       " 'are windows to my breast, where-through the sun',\n",
       " 'delights to peep, to gaze therein on thee;',\n",
       " 'yet eyes this cunning want to grace their art;',\n",
       " 'they draw but what they see, know not the heart.',\n",
       " 'let those who are in favour with their stars',\n",
       " 'of public honour and proud titles boast,',\n",
       " 'whilst i, whom fortune of such triumph bars,',\n",
       " \"unlook'd for joy in that i honour most.\",\n",
       " \"great princes' favourites their fair leaves spread\",\n",
       " \"but as the marigold at the sun's eye,\",\n",
       " 'and in themselves their pride lies buried,',\n",
       " 'for at a frown they in their glory die.',\n",
       " 'the painful warrior famoused for fight,',\n",
       " \"after a thousand victories once foil'd,\",\n",
       " 'is from the book of honour razed quite,',\n",
       " \"and all the rest forgot for which he toil'd:\",\n",
       " 'then happy i, that love and am beloved',\n",
       " 'where i may not remove nor be removed.',\n",
       " 'ord of my love, to whom in vassalage',\n",
       " 'thy merit hath my duty strongly knit,',\n",
       " 'to thee i send this written embassage,',\n",
       " 'to witness duty, not to show my wit:',\n",
       " 'duty so great, which wit so poor as mine',\n",
       " 'may make seem bare, in wanting words to show it,',\n",
       " 'but that i hope some good conceit of thine',\n",
       " \"in thy soul's thought, all naked, will bestow it;\",\n",
       " 'till whatsoever star that guides my moving',\n",
       " 'points on me graciously with fair aspect',\n",
       " \"and puts apparel on my tatter'd loving,\",\n",
       " 'to show me worthy of thy sweet respect:',\n",
       " 'then may i dare to boast how i do love thee;',\n",
       " 'till then not show my head where thou mayst prove me.',\n",
       " 'weary with toil, i haste me to my bed,',\n",
       " 'the dear repose for limbs with travel tired;',\n",
       " 'but then begins a journey in my head,',\n",
       " \"to work my mind, when body's work's expired:\",\n",
       " 'for then my thoughts, from far where i abide,',\n",
       " 'intend a zealous pilgrimage to thee,',\n",
       " 'and keep my drooping eyelids open wide,',\n",
       " 'looking on darkness which the blind do see',\n",
       " \"save that my soul's imaginary sight\",\n",
       " 'presents thy shadow to my sightless view,',\n",
       " 'which, like a jewel hung in ghastly night,',\n",
       " 'makes black night beauteous and her old face new.',\n",
       " 'lo! thus, by day my limbs, by night my mind,',\n",
       " 'for thee and for myself no quiet find.',\n",
       " 'ow can i then return in happy plight,',\n",
       " \"that am debarr'd the benefit of rest?\",\n",
       " \"when day's oppression is not eased by night,\",\n",
       " \"but day by night, and night by day, oppress'd?\",\n",
       " \"and each, though enemies to either's reign,\",\n",
       " 'do in consent shake hands to torture me;',\n",
       " 'the one by toil, the other to complain',\n",
       " 'how far i toil, still farther off from thee.',\n",
       " 'i tell the day, to please them thou art bright',\n",
       " 'and dost him grace when clouds do blot the heaven:',\n",
       " \"so flatter i the swart-complexion'd night,\",\n",
       " \"when sparkling stars twire not thou gild'st the even.\",\n",
       " 'but day doth daily draw my sorrows longer',\n",
       " \"and night doth nightly make grief's strengthseem stronger.\",\n",
       " \"when, in disgrace with fortune and men's eyes,\",\n",
       " 'i all alone beweep my outcast state',\n",
       " 'and trouble deaf heaven with my bootless cries',\n",
       " 'and look upon myself and curse my fate,',\n",
       " 'wishing me like to one more rich in hope,',\n",
       " \"featured like him, like him with friends possess'd,\",\n",
       " \"desiring this man's art and that man's scope,\",\n",
       " 'with what i most enjoy contented least;',\n",
       " 'yet in these thoughts myself almost despising,',\n",
       " 'haply i think on thee, and then my state,',\n",
       " 'like to the lark at break of day arising',\n",
       " \"from sullen earth, sings hymns at heaven's gate;\",\n",
       " \"for thy sweet love remember'd such wealth brings\",\n",
       " 'that then i scorn to change my state with kings.',\n",
       " 'when to the sessions of sweet silent thought',\n",
       " 'i summon up remembrance of things past,',\n",
       " 'i sigh the lack of many a thing i sought,',\n",
       " \"and with old woes new wail my dear time's waste:\",\n",
       " 'then can i drown an eye, unused to flow,',\n",
       " \"for precious friends hid in death's dateless night,\",\n",
       " \"and weep afresh love's long since cancell'd woe,\",\n",
       " \"and moan the expense of many a vanish'd sight:\",\n",
       " 'then can i grieve at grievances foregone,',\n",
       " \"and heavily from woe to woe tell o'er\",\n",
       " 'the sad account of fore-bemoaned moan,',\n",
       " 'which i new pay as if not paid before.',\n",
       " 'but if the while i think on thee, dear friend,',\n",
       " 'all losses are restored and sorrows end.',\n",
       " 'thy bosom is endeared with all hearts,',\n",
       " 'which i by lacking have supposed dead,',\n",
       " \"and there reigns love and all love's loving parts,\",\n",
       " 'and all those friends which i thought buried.',\n",
       " 'how many a holy and obsequious tear',\n",
       " \"hath dear religious love stol'n from mine eye\",\n",
       " 'as interest of the dead, which now appear',\n",
       " 'but things removed that hidden in thee lie!',\n",
       " 'thou art the grave where buried love doth live,',\n",
       " 'hung with the trophies of my lovers gone,',\n",
       " 'who all their parts of me to thee did give;',\n",
       " 'that due of many now is thine alone:',\n",
       " 'their images i loved i view in thee,',\n",
       " 'and thou, all they, hast all the all of me.',\n",
       " 'if thou survive my well-contented day,',\n",
       " 'when that churl death my bones with dust shall cover,',\n",
       " 'and shalt by fortune once more re-survey',\n",
       " 'these poor rude lines of thy deceased lover,',\n",
       " 'compare them with the bettering of the time,',\n",
       " \"and though they be outstripp'd by every pen,\",\n",
       " 'reserve them for my love, not for their rhyme,',\n",
       " 'exceeded by the height of happier men.',\n",
       " 'o, then vouchsafe me but this loving thought:',\n",
       " \"'had my friend's muse grown with this growing age,\",\n",
       " 'a dearer birth than this his love had brought,',\n",
       " 'to march in ranks of better equipage:',\n",
       " 'but since he died and poets better prove,',\n",
       " \"theirs for their style i'll read, his for his love.'\",\n",
       " 'full many a glorious morning have i seen',\n",
       " 'flatter the mountain-tops with sovereign eye,',\n",
       " 'kissing with golden face the meadows green,',\n",
       " 'gilding pale streams with heavenly alchemy;',\n",
       " 'anon permit the basest clouds to ride',\n",
       " 'with ugly rack on his celestial face,',\n",
       " 'and from the forlorn world his visage hide,',\n",
       " 'stealing unseen to west with this disgrace:',\n",
       " 'even so my sun one early morn did shine',\n",
       " 'with all triumphant splendor on my brow;',\n",
       " 'but out, alack! he was but one hour mine;',\n",
       " \"the region cloud hath mask'd him from me now.\",\n",
       " 'yet him for this my love no whit disdaineth;',\n",
       " \"suns of the world may stain when heaven's sun staineth.\",\n",
       " 'why didst thou promise such a beauteous day,',\n",
       " 'and make me travel forth without my cloak,',\n",
       " \"to let base clouds o'ertake me in my way,\",\n",
       " 'hiding thy bravery in their rotten smoke?',\n",
       " \"'tis not enough that through the cloud thou break,\",\n",
       " 'to dry the rain on my storm-beaten face,',\n",
       " 'for no man well of such a salve can speak',\n",
       " 'that heals the wound and cures not the disgrace:',\n",
       " 'nor can thy shame give physic to my grief;',\n",
       " 'though thou repent, yet i have still the loss:',\n",
       " \"the offender's sorrow lends but weak relief\",\n",
       " \"to him that bears the strong offence's cross.\",\n",
       " 'ah! but those tears are pearl which thy love sheds,',\n",
       " 'and they are rich and ransom all ill deeds.',\n",
       " 'no more be grieved at that which thou hast done:',\n",
       " 'roses have thorns, and silver fountains mud;',\n",
       " 'clouds and eclipses stain both moon and sun,',\n",
       " 'and loathsome canker lives in sweetest bud.',\n",
       " 'all men make faults, and even i in this,',\n",
       " 'authorizing thy trespass with compare,',\n",
       " 'myself corrupting, salving thy amiss,',\n",
       " 'excusing thy sins more than thy sins are;',\n",
       " 'for to thy sensual fault i bring in sense--',\n",
       " 'thy adverse party is thy advocate--',\n",
       " \"and 'gainst myself a lawful plea commence:\",\n",
       " 'such civil war is in my love and hate',\n",
       " 'that i an accessary needs must be',\n",
       " 'to that sweet thief which sourly robs from me.',\n",
       " 'let me confess that we two must be twain,',\n",
       " 'although our undivided loves are one:',\n",
       " 'so shall those blots that do with me remain',\n",
       " 'without thy help by me be borne alone.',\n",
       " 'in our two loves there is but one respect,',\n",
       " 'though in our lives a separable spite,',\n",
       " \"which though it alter not love's sole effect,\",\n",
       " \"yet doth it steal sweet hours from love's delight.\",\n",
       " 'i may not evermore acknowledge thee,',\n",
       " 'lest my bewailed guilt should do thee shame,',\n",
       " 'nor thou with public kindness honour me,',\n",
       " 'unless thou take that honour from thy name:',\n",
       " 'but do not so; i love thee in such sort',\n",
       " 'as, thou being mine, mine is thy good report.',\n",
       " 'as a decrepit father takes delight',\n",
       " 'to see his active child do deeds of youth,',\n",
       " \"so i, made lame by fortune's dearest spite,\",\n",
       " 'take all my comfort of thy worth and truth.',\n",
       " 'for whether beauty, birth, or wealth, or wit,',\n",
       " 'or any of these all, or all, or more,',\n",
       " 'entitled in thy parts do crowned sit,',\n",
       " 'i make my love engrafted to this store:',\n",
       " 'so then i am not lame, poor, nor despised,',\n",
       " 'whilst that this shadow doth such substance give',\n",
       " 'that i in thy abundance am sufficed',\n",
       " 'and by a part of all thy glory live.',\n",
       " 'look, what is best, that best i wish in thee:',\n",
       " 'this wish i have; then ten times happy me!',\n",
       " 'how can my muse want subject to invent,',\n",
       " \"while thou dost breathe, that pour'st into my verse\",\n",
       " 'thine own sweet argument, too excellent',\n",
       " 'for every vulgar paper to rehearse?',\n",
       " 'o, give thyself the thanks, if aught in me',\n",
       " 'worthy perusal stand against thy sight;',\n",
       " \"for who's so dumb that cannot write to thee,\",\n",
       " 'when thou thyself dost give invention light?',\n",
       " 'be thou the tenth muse, ten times more in worth',\n",
       " 'than those old nine which rhymers invocate;',\n",
       " 'and he that calls on thee, let him bring forth',\n",
       " 'eternal numbers to outlive long date.',\n",
       " 'if my slight muse do please these curious days,',\n",
       " 'the pain be mine, but thine shall be the praise.',\n",
       " 'o, how thy worth with manners may i sing,',\n",
       " 'when thou art all the better part of me?',\n",
       " 'what can mine own praise to mine own self bring?',\n",
       " \"and what is 't but mine own when i praise thee?\",\n",
       " 'even for this let us divided live,',\n",
       " 'and our dear love lose name of single one,',\n",
       " 'that by this separation i may give',\n",
       " 'that due to thee which thou deservest alone.',\n",
       " 'o absence, what a torment wouldst thou prove,',\n",
       " 'were it not thy sour leisure gave sweet leave',\n",
       " 'to entertain the time with thoughts of love,',\n",
       " 'which time and thoughts so sweetly doth deceive,',\n",
       " 'and that thou teachest how to make one twain,',\n",
       " 'by praising him here who doth hence remain!',\n",
       " 'take all my loves, my love, yea, take them all;',\n",
       " 'what hast thou then more than thou hadst before?',\n",
       " 'no love, my love, that thou mayst true love call;',\n",
       " 'all mine was thine before thou hadst this more.',\n",
       " 'then if for my love thou my love receivest,',\n",
       " 'i cannot blame thee for my love thou usest;',\n",
       " 'but yet be blamed, if thou thyself deceivest',\n",
       " 'by wilful taste of what thyself refusest.',\n",
       " 'i do forgive thy robbery, gentle thief,',\n",
       " 'although thou steal thee all my poverty;',\n",
       " 'and yet, love knows, it is a greater grief',\n",
       " \"to bear love's wrong than hate's known injury.\",\n",
       " 'lascivious grace, in whom all ill well shows,',\n",
       " 'kill me with spites; yet we must not be foes.',\n",
       " 'those petty wrongs that liberty commits,',\n",
       " 'when i am sometime absent from thy heart,',\n",
       " 'thy beauty and thy years full well befits,',\n",
       " 'for still temptation follows where thou art.',\n",
       " 'gentle thou art and therefore to be won,',\n",
       " 'beauteous thou art, therefore to be assailed;',\n",
       " \"and when a woman woos, what woman's son\",\n",
       " 'will sourly leave her till she have prevailed?',\n",
       " 'ay me! but yet thou mightest my seat forbear,',\n",
       " 'and chide thy beauty and thy straying youth,',\n",
       " 'who lead thee in their riot even there',\n",
       " 'where thou art forced to break a twofold truth,',\n",
       " 'hers by thy beauty tempting her to thee,',\n",
       " 'thine, by thy beauty being false to me.',\n",
       " 'that thou hast her, it is not all my grief,',\n",
       " 'and yet it may be said i loved her dearly;',\n",
       " 'that she hath thee, is of my wailing chief,',\n",
       " 'a loss in love that touches me more nearly.',\n",
       " 'loving offenders, thus i will excuse ye:',\n",
       " 'thou dost love her, because thou knowst i love her;',\n",
       " 'and for my sake even so doth she abuse me,',\n",
       " 'suffering my friend for my sake to approve her.',\n",
       " \"if i lose thee, my loss is my love's gain,\",\n",
       " 'and losing her, my friend hath found that loss;',\n",
       " 'both find each other, and i lose both twain,',\n",
       " 'and both for my sake lay on me this cross:',\n",
       " \"but here's the joy; my friend and i are one;\",\n",
       " 'sweet flattery! then she loves but me alone.',\n",
       " 'when most i wink, then do mine eyes best see,',\n",
       " 'for all the day they view things unrespected;',\n",
       " 'but when i sleep, in dreams they look on thee,',\n",
       " 'and darkly bright are bright in dark directed.',\n",
       " 'then thou, whose shadow shadows doth make bright,',\n",
       " \"how would thy shadow's form form happy show\",\n",
       " 'to the clear day with thy much clearer light,',\n",
       " 'when to unseeing eyes thy shade shines so!',\n",
       " 'how would, i say, mine eyes be blessed made',\n",
       " 'by looking on thee in the living day,',\n",
       " 'when in dead night thy fair imperfect shade',\n",
       " 'through heavy sleep on sightless eyes doth stay!',\n",
       " 'all days are nights to see till i see thee,',\n",
       " 'and nights bright days when dreams do show thee me.',\n",
       " 'if the dull substance of my flesh were thought,',\n",
       " 'injurious distance should not stop my way;',\n",
       " 'for then despite of space i would be brought,',\n",
       " 'from limits far remote where thou dost stay.',\n",
       " 'no matter then although my foot did stand',\n",
       " 'upon the farthest earth removed from thee;',\n",
       " 'for nimble thought can jump both sea and land',\n",
       " 'as soon as think the place where he would be.',\n",
       " 'but ah! thought kills me that i am not thought,',\n",
       " 'to leap large lengths of miles when thou art gone,',\n",
       " 'but that so much of earth and water wrought',\n",
       " \"i must attend time's leisure with my moan,\",\n",
       " 'receiving nought by elements so slow',\n",
       " \"but heavy tears, badges of either's woe.\",\n",
       " 'the other two, slight air and purging fire,',\n",
       " 'are both with thee, wherever i abide;',\n",
       " 'the first my thought, the other my desire,',\n",
       " 'these present-absent with swift motion slide.',\n",
       " 'for when these quicker elements are gone',\n",
       " 'in tender embassy of love to thee,',\n",
       " 'my life, being made of four, with two alone',\n",
       " \"sinks down to death, oppress'd with melancholy;\",\n",
       " \"until life's composition be recured\",\n",
       " \"by those swift messengers return'd from thee,\",\n",
       " 'who even but now come back again, assured',\n",
       " 'of thy fair health, recounting it to me:',\n",
       " 'this told, i joy; but then no longer glad,',\n",
       " 'i send them back again and straight grow sad.',\n",
       " 'mine eye and heart are at a mortal war',\n",
       " 'how to divide the conquest of thy sight;',\n",
       " \"mine eye my heart thy picture's sight would bar,\",\n",
       " 'my heart mine eye the freedom of that right.',\n",
       " 'my heart doth plead that thou in him dost lie--',\n",
       " 'a closet never pierced with crystal eyes--',\n",
       " 'but the defendant doth that plea deny',\n",
       " 'and says in him thy fair appearance lies.',\n",
       " \"to 'cide this title is impanneled\",\n",
       " 'a quest of thoughts, all tenants to the heart,',\n",
       " 'and by their verdict is determined',\n",
       " \"the clear eye's moiety and the dear heart's part:\",\n",
       " \"as thus; mine eye's due is thy outward part,\",\n",
       " \"and my heart's right thy inward love of heart.\",\n",
       " 'betwixt mine eye and heart a league is took,',\n",
       " 'and each doth good turns now unto the other:',\n",
       " \"when that mine eye is famish'd for a look,\",\n",
       " 'or heart in love with sighs himself doth smother,',\n",
       " \"with my love's picture then my eye doth feast\",\n",
       " 'and to the painted banquet bids my heart;',\n",
       " \"another time mine eye is my heart's guest\",\n",
       " 'and in his thoughts of love doth share a part:',\n",
       " 'so, either by thy picture or my love,',\n",
       " 'thyself away art resent still with me;',\n",
       " 'for thou not farther than my thoughts canst move,',\n",
       " 'and i am still with them and they with thee;',\n",
       " 'or, if they sleep, thy picture in my sight',\n",
       " \"awakes my heart to heart's and eye's delight.\",\n",
       " 'how careful was i, when i took my way,',\n",
       " 'each trifle under truest bars to thrust,',\n",
       " 'that to my use it might unused stay',\n",
       " 'from hands of falsehood, in sure wards of trust!',\n",
       " 'but thou, to whom my jewels trifles are,',\n",
       " 'most worthy of comfort, now my greatest grief,',\n",
       " 'thou, best of dearest and mine only care,',\n",
       " 'art left the prey of every vulgar thief.',\n",
       " \"thee have i not lock'd up in any chest,\",\n",
       " 'save where thou art not, though i feel thou art,',\n",
       " 'within the gentle closure of my breast,',\n",
       " 'from whence at pleasure thou mayst come and part;',\n",
       " \"and even thence thou wilt be stol'n, i fear,\",\n",
       " 'for truth proves thievish for a prize so dear.',\n",
       " 'against that time, if ever that time come,',\n",
       " 'when i shall see thee frown on my defects,',\n",
       " 'when as thy love hath cast his utmost sum,',\n",
       " \"call'd to that audit by advised respects;\",\n",
       " 'against that time when thou shalt strangely pass',\n",
       " 'and scarcely greet me with that sun thine eye,',\n",
       " 'when love, converted from the thing it was,',\n",
       " 'shall reasons find of settled gravity,--',\n",
       " 'against that time do i ensconce me here',\n",
       " 'within the knowledge of mine own desert,',\n",
       " 'and this my hand against myself uprear,',\n",
       " 'to guard the lawful reasons on thy part:',\n",
       " 'to leave poor me thou hast the strength of laws,',\n",
       " 'since why to love i can allege no cause.',\n",
       " 'how heavy do i journey on the way,',\n",
       " \"when what i seek, my weary travel's end,\",\n",
       " 'doth teach that ease and that repose to say',\n",
       " \"'thus far the miles are measured from thy friend!'\",\n",
       " 'the beast that bears me, tired with my woe,',\n",
       " 'plods dully on, to bear that weight in me,',\n",
       " 'as if by some instinct the wretch did know',\n",
       " 'his rider loved not speed, being made from thee:',\n",
       " 'the bloody spur cannot provoke him on',\n",
       " 'that sometimes anger thrusts into his hide;',\n",
       " 'which heavily he answers with a groan,',\n",
       " 'more sharp to me than spurring to his side;',\n",
       " 'for that same groan doth put this in my mind;',\n",
       " 'my grief lies onward and my joy behind.',\n",
       " 'thus can my love excuse the slow offence',\n",
       " 'of my dull bearer when from thee i speed:',\n",
       " 'from where thou art why should i haste me thence?',\n",
       " 'till i return, of posting is no need.',\n",
       " 'o, what excuse will my poor beast then find,',\n",
       " 'when swift extremity can seem but slow?',\n",
       " 'then should i spur, though mounted on the wind;',\n",
       " 'in winged speed no motion shall i know:',\n",
       " 'then can no horse with my desire keep pace;',\n",
       " \"therefore desire of perfect'st love being made,\",\n",
       " 'shall neigh--no dull flesh--in his fiery race;',\n",
       " 'but love, for love, thus shall excuse my jade;',\n",
       " 'since from thee going he went wilful-slow,',\n",
       " \"towards thee i'll run, and give him leave to go.\",\n",
       " 'so am i as the rich, whose blessed key',\n",
       " 'can bring him to his sweet up-locked treasure,',\n",
       " 'the which he will not every hour survey,',\n",
       " 'for blunting the fine point of seldom pleasure.',\n",
       " 'therefore are feasts so solemn and so rare,',\n",
       " 'since, seldom coming, in the long year set,',\n",
       " 'like stones of worth they thinly placed are,',\n",
       " 'or captain jewels in the carcanet.',\n",
       " 'so is the time that keeps you as my chest,',\n",
       " 'or as the wardrobe which the robe doth hide,',\n",
       " 'to make some special instant special blest,',\n",
       " \"by new unfolding his imprison'd pride.\",\n",
       " 'blessed are you, whose worthiness gives scope,',\n",
       " \"being had, to triumph, being lack'd, to hope.\",\n",
       " 'what is your substance, whereof are you made,',\n",
       " 'that millions of strange shadows on you tend?',\n",
       " 'since every one hath, every one, one shade,',\n",
       " 'and you, but one, can every shadow lend.',\n",
       " 'describe adonis, and the counterfeit',\n",
       " 'is poorly imitated after you;',\n",
       " \"on helen's cheek all art of beauty set,\",\n",
       " 'and you in grecian tires are painted new:',\n",
       " 'speak of the spring and foison of the year;',\n",
       " 'the one doth shadow of your beauty show,',\n",
       " 'the other as your bounty doth appear;',\n",
       " 'and you in every blessed shape we know.',\n",
       " 'in all external grace you have some part,',\n",
       " 'but you like none, none you, for constant heart.',\n",
       " 'o, how much more doth beauty beauteous seem',\n",
       " 'by that sweet ornament which truth doth give!',\n",
       " 'the rose looks fair, but fairer we it deem',\n",
       " 'for that sweet odour which doth in it live.',\n",
       " 'the canker-blooms have full as deep a dye',\n",
       " 'as the perfumed tincture of the roses,',\n",
       " 'hang on such thorns and play as wantonly',\n",
       " \"when summer's breath their masked buds discloses:\",\n",
       " 'but, for their virtue only is their show,',\n",
       " \"they live unwoo'd and unrespected fade,\",\n",
       " 'die to themselves. sweet roses do not so;',\n",
       " 'of their sweet deaths are sweetest odours made:',\n",
       " 'and so of you, beauteous and lovely youth,',\n",
       " 'when that shall fade, my verse distills your truth.',\n",
       " 'not marble, nor the gilded monuments',\n",
       " 'of princes, shall outlive this powerful rhyme;',\n",
       " 'but you shall shine more bright in these contents',\n",
       " \"than unswept stone besmear'd with sluttish time.\",\n",
       " 'when wasteful war shall statues overturn,',\n",
       " 'and broils root out the work of masonry,',\n",
       " \"nor mars his sword nor war's quick fire shall burn\",\n",
       " 'the living record of your memory.',\n",
       " \"'gainst death and all-oblivious enmity\",\n",
       " 'shall you pace forth; your praise shall still find room',\n",
       " 'even in the eyes of all posterity',\n",
       " 'that wear this world out to the ending doom.',\n",
       " 'so, till the judgment that yourself arise,',\n",
       " \"you live in this, and dwell in lover's eyes.\",\n",
       " 'sweet love, renew thy force; be it not said',\n",
       " 'thy edge should blunter be than appetite,',\n",
       " \"which but to-day by feeding is allay'd,\",\n",
       " \"to-morrow sharpen'd in his former might:\",\n",
       " 'so, love, be thou; although to-day thou fill',\n",
       " 'thy hungry eyes even till they wink with fullness,',\n",
       " 'to-morrow see again, and do not kill',\n",
       " 'the spirit of love with a perpetual dullness.',\n",
       " 'let this sad interim like the ocean be',\n",
       " 'which parts the shore, where two contracted new',\n",
       " 'come daily to the banks, that, when they see',\n",
       " 'return of love, more blest may be the view;',\n",
       " 'else call it winter, which being full of care',\n",
       " \"makes summer's welcome thrice more wish'd, more rare.\",\n",
       " 'being your slave, what should i do but tend',\n",
       " 'upon the hours and times of your desire?',\n",
       " 'i have no precious time at all to spend,',\n",
       " 'nor services to do, till you require.',\n",
       " 'nor dare i chide the world-without-end hour',\n",
       " 'whilst i, my sovereign, watch the clock for you,',\n",
       " 'nor think the bitterness of absence sour',\n",
       " 'when you have bid your servant once adieu;',\n",
       " 'nor dare i question with my jealous thought',\n",
       " 'where you may be, or your affairs suppose,',\n",
       " 'but, like a sad slave, stay and think of nought',\n",
       " 'save, where you are how happy you make those.',\n",
       " 'so true a fool is love that in your will,',\n",
       " 'though you do any thing, he thinks no ill.',\n",
       " 'that god forbid that made me first your slave,',\n",
       " 'i should in thought control your times of pleasure,',\n",
       " 'or at your hand the account of hours to crave,',\n",
       " 'being your vassal, bound to stay your leisure!',\n",
       " 'o, let me suffer, being at your beck,',\n",
       " \"the imprison'd absence of your liberty;\",\n",
       " 'and patience, tame to sufferance, bide each check,',\n",
       " 'without accusing you of injury.',\n",
       " 'be where you list, your charter is so strong',\n",
       " 'that you yourself may privilege your time',\n",
       " 'to what you will; to you it doth belong',\n",
       " 'yourself to pardon of self-doing crime.',\n",
       " 'i am to wait, though waiting so be hell;',\n",
       " 'not blame your pleasure, be it ill or well.',\n",
       " 'if there be nothing new, but that which is',\n",
       " 'hath been before, how are our brains beguiled,',\n",
       " 'which, labouring for invention, bear amiss',\n",
       " 'the second burden of a former child!',\n",
       " 'o, that record could with a backward look,',\n",
       " 'even of five hundred courses of the sun,',\n",
       " 'show me your image in some antique book,',\n",
       " 'since mind at first in character was done!',\n",
       " 'that i might see what the old world could say',\n",
       " 'to this composed wonder of your frame;',\n",
       " 'whether we are mended, or whether better they,',\n",
       " 'or whether revolution be the same.',\n",
       " 'o, sure i am, the wits of former days',\n",
       " 'to subjects worse have given admiring praise.',\n",
       " 'like as the waves make towards the pebbled shore,',\n",
       " 'so do our minutes hasten to their end;',\n",
       " 'each changing place with that which goes before,',\n",
       " 'in sequent toil all forwards do contend.',\n",
       " 'nativity, once in the main of light,',\n",
       " \"crawls to maturity, wherewith being crown'd,\",\n",
       " \"crooked elipses 'gainst his glory fight,\",\n",
       " 'and time that gave doth now his gift confound.',\n",
       " 'time doth transfix the flourish set on youth',\n",
       " \"and delves the parallels in beauty's brow,\",\n",
       " \"feeds on the rarities of nature's truth,\",\n",
       " 'and nothing stands but for his scythe to mow:',\n",
       " 'and yet to times in hope my verse shall stand,',\n",
       " 'praising thy worth, despite his cruel hand.',\n",
       " 'is it thy will thy image should keep open',\n",
       " 'my heavy eyelids to the weary night?',\n",
       " 'dost thou desire my slumbers should be broken,',\n",
       " 'while shadows like to thee do mock my sight?',\n",
       " \"is it thy spirit that thou send'st from thee\",\n",
       " 'so far from home into my deeds to pry,',\n",
       " 'to find out shames and idle hours in me,',\n",
       " 'the scope and tenor of thy jealousy?',\n",
       " 'o, no! thy love, though much, is not so great:',\n",
       " 'it is my love that keeps mine eye awake;',\n",
       " 'mine own true love that doth my rest defeat,',\n",
       " 'to play the watchman ever for thy sake:',\n",
       " 'for thee watch i whilst thou dost wake elsewhere,',\n",
       " 'from me far off, with others all too near.',\n",
       " 'sin of self-love possesseth all mine eye',\n",
       " 'and all my soul and all my every part;',\n",
       " 'and for this sin there is no remedy,',\n",
       " 'it is so grounded inward in my heart.',\n",
       " 'methinks no face so gracious is as mine,',\n",
       " 'no shape so true, no truth of such account;',\n",
       " 'and for myself mine own worth do define,',\n",
       " 'as i all other in all worths surmount.',\n",
       " 'but when my glass shows me myself indeed,',\n",
       " \"beated and chopp'd with tann'd antiquity,\",\n",
       " 'mine own self-love quite contrary i read;',\n",
       " 'self so self-loving were iniquity.',\n",
       " \"'tis thee, myself, that for myself i praise,\",\n",
       " 'painting my age with beauty of thy days.',\n",
       " 'against my love shall be, as i am now,',\n",
       " \"with time's injurious hand crush'd and o'er-worn;\",\n",
       " \"when hours have drain'd his blood and fill'd his brow\",\n",
       " 'with lines and wrinkles; when his youthful morn',\n",
       " \"hath travell'd on to age's steepy night,\",\n",
       " \"and all those beauties whereof now he's king\",\n",
       " \"are vanishing or vanish'd out of sight,\",\n",
       " 'stealing away the treasure of his spring;',\n",
       " 'for such a time do i now fortify',\n",
       " \"against confounding age's cruel knife,\",\n",
       " 'that he shall never cut from memory',\n",
       " \"my sweet love's beauty, though my lover's life:\",\n",
       " 'his beauty shall in these black lines be seen,',\n",
       " 'and they shall live, and he in them still green.',\n",
       " \"when i have seen by time's fell hand defaced\",\n",
       " 'the rich proud cost of outworn buried age;',\n",
       " 'when sometime lofty towers i see down-razed',\n",
       " 'and brass eternal slave to mortal rage;',\n",
       " 'when i have seen the hungry ocean gain',\n",
       " 'advantage on the kingdom of the shore,',\n",
       " 'and the firm soil win of the watery main,',\n",
       " 'increasing store with loss and loss with store;',\n",
       " 'when i have seen such interchange of state,',\n",
       " 'or state itself confounded to decay;',\n",
       " 'ruin hath taught me thus to ruminate,',\n",
       " 'that time will come and take my love away.',\n",
       " 'this thought is as a death, which cannot choose',\n",
       " 'but weep to have that which it fears to lose.',\n",
       " 'since brass, nor stone, nor earth, nor boundless sea,',\n",
       " \"but sad mortality o'er-sways their power,\",\n",
       " 'how with this rage shall beauty hold a plea,',\n",
       " 'whose action is no stronger than a flower?',\n",
       " \"o, how shall summer's honey breath hold out\",\n",
       " 'against the wreckful siege of battering days,',\n",
       " 'when rocks impregnable are not so stout,',\n",
       " 'nor gates of steel so strong, but time decays?',\n",
       " 'o fearful meditation! where, alack,',\n",
       " \"shall time's best jewel from time's chest lie hid?\",\n",
       " 'or what strong hand can hold his swift foot back?',\n",
       " 'or who his spoil of beauty can forbid?',\n",
       " 'o, none, unless this miracle have might,',\n",
       " 'that in black ink my love may still shine bright.',\n",
       " 'tired with all these, for restful death i cry,',\n",
       " 'as, to behold desert a beggar born,',\n",
       " \"and needy nothing trimm'd in jollity,\",\n",
       " 'and purest faith unhappily forsworn,',\n",
       " 'and guilded honour shamefully misplaced,',\n",
       " 'and maiden virtue rudely strumpeted,',\n",
       " 'and right perfection wrongfully disgraced,',\n",
       " 'and strength by limping sway disabled,',\n",
       " 'and art made tongue-tied by authority,',\n",
       " 'and folly doctor-like controlling skill,',\n",
       " \"and simple truth miscall'd simplicity,\",\n",
       " 'and captive good attending captain ill:',\n",
       " 'tired with all these, from these would i be gone,',\n",
       " 'save that, to die, i leave my love alone.',\n",
       " 'ah! wherefore with infection should he live,',\n",
       " 'and with his presence grace impiety,',\n",
       " 'that sin by him advantage should achieve',\n",
       " 'and lace itself with his society?',\n",
       " 'why should false painting imitate his cheek',\n",
       " 'and steal dead seeing of his living hue?',\n",
       " 'why should poor beauty indirectly seek',\n",
       " 'roses of shadow, since his rose is true?',\n",
       " 'why should he live, now nature bankrupt is,',\n",
       " \"beggar'd of blood to blush through lively veins?\",\n",
       " 'for she hath no excheckr now but his,',\n",
       " 'and, proud of many, lives upon his gains.',\n",
       " 'o, him she stores, to show what wealth she had',\n",
       " 'in days long since, before these last so bad.',\n",
       " 'thus is his cheek the map of days outworn,',\n",
       " 'when beauty lived and died as flowers do now,',\n",
       " 'before the bastard signs of fair were born,',\n",
       " 'or durst inhabit on a living brow;',\n",
       " 'before the golden tresses of the dead,',\n",
       " 'the right of sepulchres, were shorn away,',\n",
       " 'to live a second life on second head;',\n",
       " \"ere beauty's dead fleece made another gay:\",\n",
       " 'in him those holy antique hours are seen,',\n",
       " 'without all ornament, itself and true,',\n",
       " \"making no summer of another's green,\",\n",
       " 'robbing no old to dress his beauty new;',\n",
       " 'and him as for a map doth nature store,',\n",
       " 'to show false art what beauty was of yore.',\n",
       " \"those parts of thee that the world's eye doth view\",\n",
       " 'want nothing that the thought of hearts can mend;',\n",
       " 'all tongues, the voice of souls, give thee that due,',\n",
       " 'uttering bare truth, even so as foes commend.',\n",
       " \"thy outward thus with outward praise is crown'd;\",\n",
       " 'but those same tongues that give thee so thine own',\n",
       " 'in other accents do this praise confound',\n",
       " 'by seeing farther than the eye hath shown.',\n",
       " 'they look into the beauty of thy mind,',\n",
       " 'and that, in guess, they measure by thy deeds;',\n",
       " 'then, churls, their thoughts, although their eyes were kind,',\n",
       " 'to thy fair flower add the rank smell of weeds:',\n",
       " 'but why thy odour matcheth not thy show,',\n",
       " 'the solve is this, that thou dost common grow.',\n",
       " 'that thou art blamed shall not be thy defect,',\n",
       " \"for slander's mark was ever yet the fair;\",\n",
       " 'the ornament of beauty is suspect,',\n",
       " \"a crow that flies in heaven's sweetest air.\",\n",
       " 'so thou be good, slander doth but approve',\n",
       " \"thy worth the greater, being woo'd of time;\",\n",
       " 'for canker vice the sweetest buds doth love,',\n",
       " \"and thou present'st a pure unstained prime.\",\n",
       " \"thou hast pass'd by the ambush of young days,\",\n",
       " \"either not assail'd or victor being charged;\",\n",
       " 'yet this thy praise cannot be so thy praise,',\n",
       " 'to tie up envy evermore enlarged:',\n",
       " \"if some suspect of ill mask'd not thy show,\",\n",
       " 'then thou alone kingdoms of hearts shouldst owe.',\n",
       " 'no longer mourn for me when i am dead',\n",
       " 'then you shall hear the surly sullen bell',\n",
       " 'give warning to the world that i am fled',\n",
       " 'from this vile world, with vilest worms to dwell:',\n",
       " 'nay, if you read this line, remember not',\n",
       " 'the hand that writ it; for i love you so',\n",
       " 'that i in your sweet thoughts would be forgot',\n",
       " 'if thinking on me then should make you woe.',\n",
       " 'o, if, i say, you look upon this verse',\n",
       " 'when i perhaps compounded am with clay,',\n",
       " 'do not so much as my poor name rehearse.',\n",
       " 'but let your love even with my life decay,',\n",
       " 'lest the wise world should look into your moan',\n",
       " 'and mock you with me after i am gone.',\n",
       " 'o, lest the world should task you to recite',\n",
       " 'what merit lived in me, that you should love',\n",
       " 'after my death, dear love, forget me quite,',\n",
       " ...]"
      ]
     },
     "execution_count": 9,
     "metadata": {},
     "output_type": "execute_result"
    }
   ],
   "source": [
    "corpus"
   ]
  },
  {
   "cell_type": "code",
   "execution_count": 20,
   "metadata": {
    "deletable": false,
    "id": "iy4baJMDl6kj",
    "tags": [
     "graded"
    ]
   },
   "outputs": [],
   "source": [
    "# GRADED FUNCTION: n_gram_seqs\n",
    "\n",
    "def n_gram_seqs(corpus, vectorizer):\n",
    "    \"\"\"\n",
    "    Generates a list of n-gram sequences\n",
    "    \n",
    "    Args:\n",
    "        corpus (list of string): lines of texts to generate n-grams for\n",
    "        vectorizer (tf.keras.layers.TextVectorization): an instance of the TextVectorization class adapted in the corpus\n",
    "    \n",
    "    Returns:\n",
    "        (list of tf.int64 tensors): the n-gram sequences for each line in the corpus\n",
    "    \"\"\"\n",
    "    input_sequences = []\n",
    "\n",
    "    ### START CODE HERE ###\n",
    "\n",
    "    for line in corpus:\n",
    "\n",
    "        sequence = vectorizer(line).numpy()\n",
    "        \n",
    "        for l in range(1, len(sequence)):\n",
    "            se = sequence[:l+1]\n",
    "            se = tf.convert_to_tensor(se)\n",
    "            input_sequences.append(se)\n",
    "    ### END CODE HERE ###\n",
    "    \n",
    "    return input_sequences"
   ]
  },
  {
   "cell_type": "code",
   "execution_count": 21,
   "metadata": {
    "deletable": false,
    "editable": false,
    "id": "DlKqW2pfM7G3"
   },
   "outputs": [
    {
     "name": "stdout",
     "output_type": "stream",
     "text": [
      "n_gram sequences for first example look like this:\n",
      "\n"
     ]
    },
    {
     "data": {
      "text/plain": [
       "[<tf.Tensor: shape=(2,), dtype=int64, numpy=array([ 35, 489])>,\n",
       " <tf.Tensor: shape=(3,), dtype=int64, numpy=array([  35,  489, 1259])>,\n",
       " <tf.Tensor: shape=(4,), dtype=int64, numpy=array([  35,  489, 1259,  164])>,\n",
       " <tf.Tensor: shape=(5,), dtype=int64, numpy=array([  35,  489, 1259,  164,  230])>,\n",
       " <tf.Tensor: shape=(6,), dtype=int64, numpy=array([  35,  489, 1259,  164,  230,  582])>]"
      ]
     },
     "execution_count": 21,
     "metadata": {},
     "output_type": "execute_result"
    }
   ],
   "source": [
    "# Test your function with one example\n",
    "first_example_sequence = n_gram_seqs([corpus[0]], vectorizer)\n",
    "\n",
    "print(\"n_gram sequences for first example look like this:\\n\")\n",
    "first_example_sequence"
   ]
  },
  {
   "cell_type": "markdown",
   "metadata": {
    "deletable": false,
    "editable": false,
    "id": "0HL8Ug6UU0Jt"
   },
   "source": [
    "**Expected Output:**\n",
    "\n",
    "```\n",
    "n_gram sequences for first example look like this:\n",
    "\n",
    "[<tf.Tensor: shape=(2,), dtype=int64, numpy=array([ 35, 489])>,\n",
    " <tf.Tensor: shape=(3,), dtype=int64, numpy=array([  35,  489, 1259])>,\n",
    " <tf.Tensor: shape=(4,), dtype=int64, numpy=array([  35,  489, 1259,  164])>,\n",
    " <tf.Tensor: shape=(5,), dtype=int64, numpy=array([  35,  489, 1259,  164,  230])>,\n",
    " <tf.Tensor: shape=(6,), dtype=int64, numpy=array([  35,  489, 1259,  164,  230,  582])>]\n",
    "```"
   ]
  },
  {
   "cell_type": "code",
   "execution_count": 22,
   "metadata": {
    "deletable": false,
    "editable": false,
    "id": "wtPpCcBjNc4c"
   },
   "outputs": [
    {
     "name": "stdout",
     "output_type": "stream",
     "text": [
      "n_gram sequences for next 3 examples look like this:\n",
      "\n"
     ]
    },
    {
     "data": {
      "text/plain": [
       "[<tf.Tensor: shape=(2,), dtype=int64, numpy=array([  9, 935])>,\n",
       " <tf.Tensor: shape=(3,), dtype=int64, numpy=array([  9, 935, 143])>,\n",
       " <tf.Tensor: shape=(4,), dtype=int64, numpy=array([  9, 935, 143, 369])>,\n",
       " <tf.Tensor: shape=(5,), dtype=int64, numpy=array([  9, 935, 143, 369, 101])>,\n",
       " <tf.Tensor: shape=(6,), dtype=int64, numpy=array([  9, 935, 143, 369, 101, 171])>,\n",
       " <tf.Tensor: shape=(7,), dtype=int64, numpy=array([  9, 935, 143, 369, 101, 171, 207])>,\n",
       " <tf.Tensor: shape=(2,), dtype=int64, numpy=array([17, 23])>,\n",
       " <tf.Tensor: shape=(3,), dtype=int64, numpy=array([17, 23,  3])>,\n",
       " <tf.Tensor: shape=(4,), dtype=int64, numpy=array([  17,   23,    3, 1006])>,\n",
       " <tf.Tensor: shape=(5,), dtype=int64, numpy=array([  17,   23,    3, 1006,   64])>,\n",
       " <tf.Tensor: shape=(6,), dtype=int64, numpy=array([  17,   23,    3, 1006,   64,   31])>,\n",
       " <tf.Tensor: shape=(7,), dtype=int64, numpy=array([  17,   23,    3, 1006,   64,   31,   51])>,\n",
       " <tf.Tensor: shape=(8,), dtype=int64, numpy=array([  17,   23,    3, 1006,   64,   31,   51,  803])>,\n",
       " <tf.Tensor: shape=(2,), dtype=int64, numpy=array([ 27, 315])>,\n",
       " <tf.Tensor: shape=(3,), dtype=int64, numpy=array([ 27, 315, 745])>,\n",
       " <tf.Tensor: shape=(4,), dtype=int64, numpy=array([ 27, 315, 745, 101])>,\n",
       " <tf.Tensor: shape=(5,), dtype=int64, numpy=array([ 27, 315, 745, 101, 209])>,\n",
       " <tf.Tensor: shape=(6,), dtype=int64, numpy=array([ 27, 315, 745, 101, 209,  27])>,\n",
       " <tf.Tensor: shape=(7,), dtype=int64, numpy=array([ 27, 315, 745, 101, 209,  27, 286])>]"
      ]
     },
     "execution_count": 22,
     "metadata": {},
     "output_type": "execute_result"
    }
   ],
   "source": [
    "# Test your function with a bigger corpus\n",
    "next_3_examples_sequence = n_gram_seqs(corpus[1:4], vectorizer)\n",
    "\n",
    "print(\"n_gram sequences for next 3 examples look like this:\\n\")\n",
    "next_3_examples_sequence"
   ]
  },
  {
   "cell_type": "markdown",
   "metadata": {
    "id": "EIzecMczU9UB"
   },
   "source": [
    "**Expected Output:**\n",
    "\n",
    "```\n",
    "n_gram sequences for next 3 examples look like this:\n",
    "\n",
    "[<tf.Tensor: shape=(2,), dtype=int64, numpy=array([  9, 935])>,\n",
    " <tf.Tensor: shape=(3,), dtype=int64, numpy=array([  9, 935, 143])>,\n",
    " <tf.Tensor: shape=(4,), dtype=int64, numpy=array([  9, 935, 143, 369])>,\n",
    " <tf.Tensor: shape=(5,), dtype=int64, numpy=array([  9, 935, 143, 369, 101])>,\n",
    " <tf.Tensor: shape=(6,), dtype=int64, numpy=array([  9, 935, 143, 369, 101, 171])>,\n",
    " <tf.Tensor: shape=(7,), dtype=int64, numpy=array([  9, 935, 143, 369, 101, 171, 207])>,\n",
    " <tf.Tensor: shape=(2,), dtype=int64, numpy=array([17, 23])>,\n",
    " <tf.Tensor: shape=(3,), dtype=int64, numpy=array([17, 23,  3])>,\n",
    " <tf.Tensor: shape=(4,), dtype=int64, numpy=array([  17,   23,    3, 1006])>,\n",
    " <tf.Tensor: shape=(5,), dtype=int64, numpy=array([  17,   23,    3, 1006,   64])>,\n",
    " <tf.Tensor: shape=(6,), dtype=int64, numpy=array([  17,   23,    3, 1006,   64,   31])>,\n",
    " <tf.Tensor: shape=(7,), dtype=int64, numpy=array([  17,   23,    3, 1006,   64,   31,   51])>,\n",
    " <tf.Tensor: shape=(8,), dtype=int64, numpy=array([  17,   23,    3, 1006,   64,   31,   51,  803])>,\n",
    " <tf.Tensor: shape=(2,), dtype=int64, numpy=array([ 27, 315])>,\n",
    " <tf.Tensor: shape=(3,), dtype=int64, numpy=array([ 27, 315, 745])>,\n",
    " <tf.Tensor: shape=(4,), dtype=int64, numpy=array([ 27, 315, 745, 101])>,\n",
    " <tf.Tensor: shape=(5,), dtype=int64, numpy=array([ 27, 315, 745, 101, 209])>,\n",
    " <tf.Tensor: shape=(6,), dtype=int64, numpy=array([ 27, 315, 745, 101, 209,  27])>,\n",
    " <tf.Tensor: shape=(7,), dtype=int64, numpy=array([ 27, 315, 745, 101, 209,  27, 286])>]\n",
    "```"
   ]
  },
  {
   "cell_type": "code",
   "execution_count": 23,
   "metadata": {
    "deletable": false,
    "editable": false
   },
   "outputs": [
    {
     "name": "stdout",
     "output_type": "stream",
     "text": [
      "\u001b[92m All tests passed!\n"
     ]
    }
   ],
   "source": [
    "# Test your code!\n",
    "unittests.test_n_gram_seqs(n_gram_seqs)"
   ]
  },
  {
   "cell_type": "markdown",
   "metadata": {
    "deletable": false,
    "editable": false,
    "id": "dx3V_RjFWQSu"
   },
   "source": [
    "Apply the `n_gram_seqs` transformation to the whole corpus and save the maximum sequence length to use it later:"
   ]
  },
  {
   "cell_type": "code",
   "execution_count": 24,
   "metadata": {
    "deletable": false,
    "editable": false,
    "id": "laMwiRUpmuSd"
   },
   "outputs": [
    {
     "name": "stdout",
     "output_type": "stream",
     "text": [
      "n_grams of input_sequences have length: 15355\n",
      "maximum length of sequences is: 11\n"
     ]
    }
   ],
   "source": [
    "# Apply the n_gram_seqs transformation to the whole corpus\n",
    "input_sequences = n_gram_seqs(corpus, vectorizer)\n",
    "\n",
    "# Save max length \n",
    "max_sequence_len = max([len(x) for x in input_sequences])\n",
    "\n",
    "print(f\"n_grams of input_sequences have length: {len(input_sequences)}\")\n",
    "print(f\"maximum length of sequences is: {max_sequence_len}\")"
   ]
  },
  {
   "cell_type": "markdown",
   "metadata": {
    "deletable": false,
    "editable": false,
    "id": "2OciMdmEdE9L"
   },
   "source": [
    "**Expected Output:**\n",
    "\n",
    "```\n",
    "n_grams of input_sequences have length: 15355\n",
    "maximum length of sequences is: 11\n",
    "```"
   ]
  },
  {
   "cell_type": "markdown",
   "metadata": {
    "deletable": false,
    "editable": false,
    "id": "zHY7HroqWq12"
   },
   "source": [
    "## Exercise 3: pad_seqs\n",
    "\n",
    "Now code the `pad_seqs` function which will pad any given sequences to the desired maximum length. Notice that this function receives a list of sequences and should return a numpy array with the padded sequences. You may have a look at the documentation of [`tf.keras.utils.pad_sequences`](https://www.tensorflow.org/api_docs/python/tf/keras/utils/pad_sequences). \n",
    "\n",
    "**NOTE**: \n",
    "\n",
    "- Remember to pass the correct padding method as discussed in the lecture."
   ]
  },
  {
   "cell_type": "code",
   "execution_count": 25,
   "metadata": {
    "cellView": "code",
    "deletable": false,
    "id": "WW1-qAZaWOhC",
    "tags": [
     "graded"
    ]
   },
   "outputs": [],
   "source": [
    "# GRADED FUNCTION: pad_seqs\n",
    "\n",
    "def pad_seqs(input_sequences, max_sequence_len):\n",
    "    \"\"\"\n",
    "    Pads tokenized sequences to the same length\n",
    "    \n",
    "    Args:\n",
    "        input_sequences (list of int): tokenized sequences to pad\n",
    "        maxlen (int): maximum length of the token sequences\n",
    "    \n",
    "    Returns:\n",
    "        (np.array of int32): tokenized sequences padded to the same length\n",
    "    \"\"\"\n",
    "    \n",
    "    ### START CODE HERE ###\n",
    "\n",
    "    padded_sequences = np.array(tf.keras.utils.pad_sequences(input_sequences, maxlen=max_sequence_len, padding='pre'))\n",
    "\n",
    "    ### END CODE HERE ###\n",
    "    \n",
    "    return padded_sequences"
   ]
  },
  {
   "cell_type": "code",
   "execution_count": 26,
   "metadata": {
    "deletable": false,
    "editable": false,
    "id": "IqVQ0pb3YHLr"
   },
   "outputs": [
    {
     "data": {
      "text/plain": [
       "array([[   0,    0,    0,    0,   35,  489],\n",
       "       [   0,    0,    0,   35,  489, 1259],\n",
       "       [   0,    0,   35,  489, 1259,  164],\n",
       "       [   0,   35,  489, 1259,  164,  230],\n",
       "       [  35,  489, 1259,  164,  230,  582]], dtype=int32)"
      ]
     },
     "execution_count": 26,
     "metadata": {},
     "output_type": "execute_result"
    }
   ],
   "source": [
    "# Test your function with the n_grams_seq of the first example\n",
    "first_padded_seq = pad_seqs(first_example_sequence, max([len(x) for x in first_example_sequence]))\n",
    "first_padded_seq"
   ]
  },
  {
   "cell_type": "markdown",
   "metadata": {
    "deletable": false,
    "editable": false,
    "id": "Re_avDznXRnU"
   },
   "source": [
    "**Expected Output:**\n",
    "\n",
    "```\n",
    "array([[   0,    0,    0,    0,   35,  489],\n",
    "       [   0,    0,    0,   35,  489, 1259],\n",
    "       [   0,    0,   35,  489, 1259,  164],\n",
    "       [   0,   35,  489, 1259,  164,  230],\n",
    "       [  35,  489, 1259,  164,  230,  582]], dtype=int32)\n",
    "```"
   ]
  },
  {
   "cell_type": "code",
   "execution_count": 27,
   "metadata": {
    "deletable": false,
    "editable": false,
    "id": "j56_UCOBYzZt"
   },
   "outputs": [
    {
     "data": {
      "text/plain": [
       "array([[   0,    0,    0,    0,    0,    0,    9,  935],\n",
       "       [   0,    0,    0,    0,    0,    9,  935,  143],\n",
       "       [   0,    0,    0,    0,    9,  935,  143,  369],\n",
       "       [   0,    0,    0,    9,  935,  143,  369,  101],\n",
       "       [   0,    0,    9,  935,  143,  369,  101,  171],\n",
       "       [   0,    9,  935,  143,  369,  101,  171,  207],\n",
       "       [   0,    0,    0,    0,    0,    0,   17,   23],\n",
       "       [   0,    0,    0,    0,    0,   17,   23,    3],\n",
       "       [   0,    0,    0,    0,   17,   23,    3, 1006],\n",
       "       [   0,    0,    0,   17,   23,    3, 1006,   64],\n",
       "       [   0,    0,   17,   23,    3, 1006,   64,   31],\n",
       "       [   0,   17,   23,    3, 1006,   64,   31,   51],\n",
       "       [  17,   23,    3, 1006,   64,   31,   51,  803],\n",
       "       [   0,    0,    0,    0,    0,    0,   27,  315],\n",
       "       [   0,    0,    0,    0,    0,   27,  315,  745],\n",
       "       [   0,    0,    0,    0,   27,  315,  745,  101],\n",
       "       [   0,    0,    0,   27,  315,  745,  101,  209],\n",
       "       [   0,    0,   27,  315,  745,  101,  209,   27],\n",
       "       [   0,   27,  315,  745,  101,  209,   27,  286]], dtype=int32)"
      ]
     },
     "execution_count": 27,
     "metadata": {},
     "output_type": "execute_result"
    }
   ],
   "source": [
    "# Test your function with the n_grams_seq of the next 3 examples\n",
    "next_3_padded_seq = pad_seqs(next_3_examples_sequence, max([len(s) for s in next_3_examples_sequence]))\n",
    "next_3_padded_seq"
   ]
  },
  {
   "cell_type": "markdown",
   "metadata": {
    "deletable": false,
    "editable": false,
    "id": "3rmcDluOXcIU"
   },
   "source": [
    "**Expected Output:**\n",
    "\n",
    "```\n",
    "array([[   0,    0,    0,    0,    0,    0,    9,  935],\n",
    "       [   0,    0,    0,    0,    0,    9,  935,  143],\n",
    "       [   0,    0,    0,    0,    9,  935,  143,  369],\n",
    "       [   0,    0,    0,    9,  935,  143,  369,  101],\n",
    "       [   0,    0,    9,  935,  143,  369,  101,  171],\n",
    "       [   0,    9,  935,  143,  369,  101,  171,  207],\n",
    "       [   0,    0,    0,    0,    0,    0,   17,   23],\n",
    "       [   0,    0,    0,    0,    0,   17,   23,    3],\n",
    "       [   0,    0,    0,    0,   17,   23,    3, 1006],\n",
    "       [   0,    0,    0,   17,   23,    3, 1006,   64],\n",
    "       [   0,    0,   17,   23,    3, 1006,   64,   31],\n",
    "       [   0,   17,   23,    3, 1006,   64,   31,   51],\n",
    "       [  17,   23,    3, 1006,   64,   31,   51,  803],\n",
    "       [   0,    0,    0,    0,    0,    0,   27,  315],\n",
    "       [   0,    0,    0,    0,    0,   27,  315,  745],\n",
    "       [   0,    0,    0,    0,   27,  315,  745,  101],\n",
    "       [   0,    0,    0,   27,  315,  745,  101,  209],\n",
    "       [   0,    0,   27,  315,  745,  101,  209,   27],\n",
    "       [   0,   27,  315,  745,  101,  209,   27,  286]], dtype=int32)\n",
    "```"
   ]
  },
  {
   "cell_type": "code",
   "execution_count": 28,
   "metadata": {
    "deletable": false,
    "editable": false
   },
   "outputs": [
    {
     "name": "stdout",
     "output_type": "stream",
     "text": [
      "\u001b[92m All tests passed!\n"
     ]
    }
   ],
   "source": [
    "# Test your code!\n",
    "unittests.test_pad_seqs(pad_seqs)"
   ]
  },
  {
   "cell_type": "code",
   "execution_count": 29,
   "metadata": {
    "deletable": false,
    "editable": false,
    "id": "rgK-Q_micEYA"
   },
   "outputs": [
    {
     "name": "stdout",
     "output_type": "stream",
     "text": [
      "padded corpus has shape: (15355, 11)\n"
     ]
    }
   ],
   "source": [
    "# Pad the whole corpus\n",
    "input_sequences = pad_seqs(input_sequences, max_sequence_len)\n",
    "\n",
    "print(f\"padded corpus has shape: {input_sequences.shape}\")"
   ]
  },
  {
   "cell_type": "markdown",
   "metadata": {
    "id": "59RD1YYNc7CW"
   },
   "source": [
    "**Expected Output:**\n",
    "\n",
    "```\n",
    "padded corpus has shape: (15355, 11)\n",
    "\n",
    "```"
   ]
  },
  {
   "cell_type": "markdown",
   "metadata": {
    "deletable": false,
    "editable": false,
    "id": "ZbOidyPrXxf7"
   },
   "source": [
    "## Exercise 4: features_and_labels_dataset\n",
    "\n",
    "Before feeding the data into the neural network you should split it into features and labels. In this case the features will be the *padded n_gram sequences* with the **last element** removed from them and the labels will be the removed words.\n",
    "\n",
    "Complete the `features_and_labels_dataset` function below. This function expects the `padded n_gram sequences` as input and should return a **batched** [tensorflow dataset](https://www.tensorflow.org/api_docs/python/tf/data/Dataset) containing elements in the form (sentence, label). \n",
    "\n",
    "\n",
    "**NOTE**:\n",
    "- Notice that the function also receives the total of words in the corpus, this parameter will be **very important when one hot encoding the labels** since every word in the corpus will be a label at least once. The function you should use is [`tf.keras.utils.to_categorical`]((https://www.tensorflow.org/api_docs/python/tf/keras/utils/to_categorical)).\n",
    "- To generate a dataset you may use the function [tf.data.Dataset.from_tensor_slices](https://www.tensorflow.org/api_docs/python/tf/data/Dataset#from_tensor_slices) after obtaining the sentences and their respective labels.\n",
    "- To batch a dataset, you may call the method [.batch](https://www.tensorflow.org/api_docs/python/tf/data/Dataset#batch). A good number is `16`, but feel free to choose any number you want to, but keep it not greater than 64, otherwise the model may take too many epochs to achieve a good accuracy. Remember this is defined as a global variable."
   ]
  },
  {
   "cell_type": "code",
   "execution_count": 30,
   "metadata": {
    "cellView": "code",
    "deletable": false,
    "id": "9WGGbYdnZdmJ",
    "tags": [
     "graded"
    ]
   },
   "outputs": [],
   "source": [
    "# GRADED FUNCTION: features_and_labels\n",
    "\n",
    "def features_and_labels_dataset(input_sequences, total_words):\n",
    "    \"\"\"\n",
    "    Generates features and labels from n-grams and returns a tensorflow dataset\n",
    "    \n",
    "    Args:\n",
    "        input_sequences (list of int): sequences to split features and labels from\n",
    "        total_words (int): vocabulary size\n",
    "    \n",
    "    Returns:\n",
    "        (tf.data.Dataset): Dataset with elements in the form (sentence, label)\n",
    "    \"\"\"\n",
    "    ### START CODE HERE ###\n",
    "\n",
    "    # Define the features an labels as discussed in the lectures\n",
    "    features = input_sequences[:, :-1]\n",
    "    labels = input_sequences[:, -1]\n",
    "\n",
    "    # One hot encode the labels\n",
    "    one_hot_labels = tf.keras.utils.to_categorical(labels, num_classes=total_words)\n",
    "\n",
    "    # Build the dataset with the features and one hot encoded labels\n",
    "    dataset = tf.data.Dataset.from_tensor_slices((features, one_hot_labels)) \n",
    "\n",
    "    # Batch de dataset with number of batches given by the global variable\n",
    "    batched_dataset = (dataset.batch(16))\n",
    "\n",
    "    ### END CODE HERE ##\n",
    "\n",
    "    return batched_dataset"
   ]
  },
  {
   "cell_type": "code",
   "execution_count": 31,
   "metadata": {
    "deletable": false,
    "editable": false,
    "id": "23DolaBRaIAZ"
   },
   "outputs": [
    {
     "name": "stdout",
     "output_type": "stream",
     "text": [
      "Example:\n",
      "\n",
      "N grams:\n",
      "\n",
      " [[   0    0    0    0   35]\n",
      " [   0    0    0   35  489]\n",
      " [   0    0   35  489 1259]\n",
      " [   0   35  489 1259  164]\n",
      " [  35  489 1259  164  230]]\n",
      "\n",
      "Label shape:\n",
      "\n",
      " (5, 3189)\n"
     ]
    }
   ],
   "source": [
    "# Test your function with the padded n_grams_seq of the first example\n",
    "dataset_example = features_and_labels_dataset(first_padded_seq, total_words)\n",
    "\n",
    "print(\"Example:\\n\")\n",
    "for features, label in dataset_example.take(1):\n",
    "    print(f\"N grams:\\n\\n {features}\\n\")\n",
    "    print(f\"Label shape:\\n\\n {label.shape}\")"
   ]
  },
  {
   "cell_type": "markdown",
   "metadata": {
    "deletable": false,
    "editable": false,
    "id": "7t4yAx2UaQ43"
   },
   "source": [
    "**Expected Output:**\n",
    "\n",
    "```\n",
    "Example:\n",
    "\n",
    "N grams:\n",
    "\n",
    " [[   0    0    0    0   35]\n",
    " [   0    0    0   35  489]\n",
    " [   0    0   35  489 1259]\n",
    " [   0   35  489 1259  164]\n",
    " [  35  489 1259  164  230]]\n",
    "\n",
    "Label shape:\n",
    "\n",
    " (5, 3189)\n",
    "```"
   ]
  },
  {
   "cell_type": "code",
   "execution_count": 32,
   "metadata": {
    "deletable": false,
    "editable": false
   },
   "outputs": [
    {
     "name": "stdout",
     "output_type": "stream",
     "text": [
      "\u001b[92m All tests passed!\n"
     ]
    }
   ],
   "source": [
    "# Test your code!\n",
    "unittests.test_features_and_labels_dataset(features_and_labels_dataset)"
   ]
  },
  {
   "cell_type": "markdown",
   "metadata": {
    "deletable": false,
    "editable": false
   },
   "source": [
    "Now let's generate the whole dataset that will be used for training. In this case, let's use the [.prefetch](https://www.tensorflow.org/api_docs/python/tf/data/Dataset#prefetch) method to speed up the training. Since the dataset is not that big, you should not have problems with memory by doing this. "
   ]
  },
  {
   "cell_type": "code",
   "execution_count": 33,
   "metadata": {
    "deletable": false,
    "editable": false,
    "id": "GRTuLEt3bRKa"
   },
   "outputs": [
    {
     "name": "stdout",
     "output_type": "stream",
     "text": [
      "Feature shape: TensorSpec(shape=(None, 10), dtype=tf.int32, name=None)\n",
      "Label shape: TensorSpec(shape=(None, 3189), dtype=tf.float64, name=None)\n"
     ]
    }
   ],
   "source": [
    "# Split the whole corpus\n",
    "dataset = features_and_labels_dataset(input_sequences, total_words).prefetch(tf.data.AUTOTUNE)\n",
    "\n",
    "print(f\"Feature shape: {dataset.element_spec[0]}\")\n",
    "print(f\"Label shape: {dataset.element_spec[1]}\")"
   ]
  },
  {
   "cell_type": "markdown",
   "metadata": {
    "deletable": false,
    "editable": false,
    "id": "xXSMK_HpdLns"
   },
   "source": [
    "**Expected Output:**\n",
    "\n",
    "```\n",
    "Feature shape: TensorSpec(shape=(None, 10), dtype=tf.int32, name=None)\n",
    "Label shape: TensorSpec(shape=(None, 3189), dtype=tf.float32, name=None)\n",
    "```"
   ]
  },
  {
   "cell_type": "markdown",
   "metadata": {
    "deletable": false,
    "editable": false,
    "id": "ltxaOCE_aU6J"
   },
   "source": [
    "## Exercise 5: create_model\n",
    "\n",
    "Now you should define a model architecture capable of achieving an accuracy of at least 80%.\n",
    "\n",
    "Some hints to help you in this task:\n",
    "\n",
    "- The first layer in your model must be an [Input](https://www.tensorflow.org/api_docs/python/tf/keras/Input) layer with the appropriate parameters, remember that your input are vectors with a fixed length size. Be careful with the size value you should pass as you've removed the last element of every input to be the label.\n",
    "\n",
    "- An appropriate `output_dim` for the first layer (Embedding) is 100, this is already provided for you.\n",
    "- A Bidirectional LSTM is helpful for this particular problem.\n",
    "- The last layer should have the same number of units as the total number of words in the corpus and a softmax activation function.\n",
    "- This problem can be solved with only two layers (excluding the Embedding and Input) so try out small architectures first.\n",
    "- 30 epochs should be enough to get an accuracy higher than 80%, if this is not the case try changing the architecture of your model."
   ]
  },
  {
   "cell_type": "code",
   "execution_count": 39,
   "metadata": {
    "cellView": "code",
    "deletable": false,
    "id": "XrE6kpJFfvRY",
    "tags": [
     "graded"
    ]
   },
   "outputs": [],
   "source": [
    "# GRADED FUNCTION: create_model\n",
    "\n",
    "def create_model(total_words, max_sequence_len):\n",
    "    \"\"\"\n",
    "    Creates a text generator model\n",
    "    \n",
    "    Args:\n",
    "        total_words (int): size of the vocabulary for the Embedding layer input\n",
    "        max_sequence_len (int): length of the input sequences\n",
    "    \n",
    "    Returns:\n",
    "       (tf.keras Model): the text generator model\n",
    "    \"\"\"\n",
    "    model = tf.keras.Sequential()\n",
    "\n",
    "    ### START CODE HERE ###\n",
    "    model.add(tf.keras.layers.Input(shape=(total_words-1, )))\n",
    "    model.add(tf.keras.layers.Embedding(total_words, EMBEDDING_DIM))\n",
    "    model.add(tf.keras.layers.Bidirectional(tf.keras.layers.LSTM(LSTM_UNITS)))\n",
    "    model.add(tf.keras.layers.Dense(total_words,activation='softmax'))\n",
    "\n",
    "\n",
    "    # Compile the model\n",
    "    model.compile(loss='categorical_crossentropy',\n",
    "                  optimizer='adam',\n",
    "                  metrics = ['accuracy'])\n",
    "    \n",
    "    ### END CODE HERE ###\n",
    "\n",
    "    return model"
   ]
  },
  {
   "cell_type": "markdown",
   "metadata": {},
   "source": [
    "The next cell allows you to check the number of total and trainable parameters of your model and prompts a warning in case these exceeds those of a reference solution, this serves the following 3 purposes listed in order of priority:\n",
    "\n",
    "- Helps you prevent crashing the kernel during training.\n",
    "\n",
    "- Helps you avoid longer-than-necessary training times.\n",
    "- Provides a reasonable estimate of the size of your model. In general you will usually prefer smaller models given that they accomplish their goal successfully.\n",
    "\n",
    "**Notice that this is just informative** and may be very well below the actual limit for size of the model necessary to crash the kernel. So even if you exceed this reference you are probably fine. However, **if the kernel crashes during training or it is taking a very long time and your model is larger than the reference, come back here and try to get the number of parameters closer to the reference.**"
   ]
  },
  {
   "cell_type": "code",
   "execution_count": 40,
   "metadata": {
    "deletable": false,
    "editable": false,
    "id": "0IpX_Gu_gISk",
    "tags": []
   },
   "outputs": [
    {
     "name": "stdout",
     "output_type": "stream",
     "text": [
      "\u001b[92mYour model has 1,372,969 total parameters and the reference is 2,000,000\u001b[92m. You are good to go!\n",
      "\n",
      "\u001b[92mYour model has 1,372,969 trainable parameters and the reference is 2,000,000\u001b[92m. You are good to go!\n"
     ]
    }
   ],
   "source": [
    "# Get the untrained model\n",
    "model = create_model(total_words, max_sequence_len)\n",
    "\n",
    "# Check the parameter count against a reference solution\n",
    "unittests.parameter_count(model)"
   ]
  },
  {
   "cell_type": "code",
   "execution_count": 41,
   "metadata": {
    "deletable": false,
    "editable": false
   },
   "outputs": [
    {
     "name": "stdout",
     "output_type": "stream",
     "text": [
      "predictions have shape: (16, 3189)\n"
     ]
    }
   ],
   "source": [
    "example_batch = dataset.take(1)\n",
    "\n",
    "try:\n",
    "\tmodel.evaluate(example_batch, verbose=False)\n",
    "except:\n",
    "\tprint(\"Your model is not compatible with the dataset you defined earlier. Check that the loss function and last layer are compatible with one another.\")\n",
    "else:\n",
    "\tpredictions = model.predict(example_batch, verbose=False)\n",
    "\tprint(f\"predictions have shape: {predictions.shape}\")"
   ]
  },
  {
   "cell_type": "markdown",
   "metadata": {
    "deletable": false,
    "editable": false
   },
   "source": [
    "**Expected output:**\n",
    "\n",
    "```\n",
    "predictions have shape: (NUM_BATCHES, 3189)\n",
    "```\n",
    "\n",
    "Where `NUM_BATCHES` is the number of batches you have set to your dataset."
   ]
  },
  {
   "cell_type": "code",
   "execution_count": 42,
   "metadata": {
    "deletable": false,
    "editable": false
   },
   "outputs": [
    {
     "name": "stdout",
     "output_type": "stream",
     "text": [
      "\u001b[92m All tests passed!\n"
     ]
    }
   ],
   "source": [
    "# Test your code!\n",
    "unittests.test_create_model(create_model)"
   ]
  },
  {
   "cell_type": "code",
   "execution_count": 43,
   "metadata": {
    "deletable": false
   },
   "outputs": [
    {
     "name": "stdout",
     "output_type": "stream",
     "text": [
      "Epoch 1/30\n",
      "\u001b[1m960/960\u001b[0m \u001b[32m━━━━━━━━━━━━━━━━━━━━\u001b[0m\u001b[37m\u001b[0m \u001b[1m8s\u001b[0m 6ms/step - accuracy: 0.0265 - loss: 7.0521\n",
      "Epoch 2/30\n",
      "\u001b[1m960/960\u001b[0m \u001b[32m━━━━━━━━━━━━━━━━━━━━\u001b[0m\u001b[37m\u001b[0m \u001b[1m6s\u001b[0m 7ms/step - accuracy: 0.0329 - loss: 6.1390\n",
      "Epoch 3/30\n",
      "\u001b[1m960/960\u001b[0m \u001b[32m━━━━━━━━━━━━━━━━━━━━\u001b[0m\u001b[37m\u001b[0m \u001b[1m5s\u001b[0m 6ms/step - accuracy: 0.0441 - loss: 5.7557\n",
      "Epoch 4/30\n",
      "\u001b[1m960/960\u001b[0m \u001b[32m━━━━━━━━━━━━━━━━━━━━\u001b[0m\u001b[37m\u001b[0m \u001b[1m5s\u001b[0m 6ms/step - accuracy: 0.0531 - loss: 5.4108\n",
      "Epoch 5/30\n",
      "\u001b[1m960/960\u001b[0m \u001b[32m━━━━━━━━━━━━━━━━━━━━\u001b[0m\u001b[37m\u001b[0m \u001b[1m5s\u001b[0m 6ms/step - accuracy: 0.0638 - loss: 5.1647\n",
      "Epoch 6/30\n",
      "\u001b[1m960/960\u001b[0m \u001b[32m━━━━━━━━━━━━━━━━━━━━\u001b[0m\u001b[37m\u001b[0m \u001b[1m5s\u001b[0m 6ms/step - accuracy: 0.0746 - loss: 4.8897\n",
      "Epoch 7/30\n",
      "\u001b[1m960/960\u001b[0m \u001b[32m━━━━━━━━━━━━━━━━━━━━\u001b[0m\u001b[37m\u001b[0m \u001b[1m5s\u001b[0m 6ms/step - accuracy: 0.0885 - loss: 4.7079\n",
      "Epoch 8/30\n",
      "\u001b[1m960/960\u001b[0m \u001b[32m━━━━━━━━━━━━━━━━━━━━\u001b[0m\u001b[37m\u001b[0m \u001b[1m5s\u001b[0m 6ms/step - accuracy: 0.1251 - loss: 4.3935\n",
      "Epoch 9/30\n",
      "\u001b[1m960/960\u001b[0m \u001b[32m━━━━━━━━━━━━━━━━━━━━\u001b[0m\u001b[37m\u001b[0m \u001b[1m5s\u001b[0m 6ms/step - accuracy: 0.1676 - loss: 4.0792\n",
      "Epoch 10/30\n",
      "\u001b[1m960/960\u001b[0m \u001b[32m━━━━━━━━━━━━━━━━━━━━\u001b[0m\u001b[37m\u001b[0m \u001b[1m5s\u001b[0m 6ms/step - accuracy: 0.2039 - loss: 3.8931\n",
      "Epoch 11/30\n",
      "\u001b[1m960/960\u001b[0m \u001b[32m━━━━━━━━━━━━━━━━━━━━\u001b[0m\u001b[37m\u001b[0m \u001b[1m5s\u001b[0m 5ms/step - accuracy: 0.2612 - loss: 3.5828\n",
      "Epoch 12/30\n",
      "\u001b[1m960/960\u001b[0m \u001b[32m━━━━━━━━━━━━━━━━━━━━\u001b[0m\u001b[37m\u001b[0m \u001b[1m5s\u001b[0m 5ms/step - accuracy: 0.3062 - loss: 3.3042\n",
      "Epoch 13/30\n",
      "\u001b[1m960/960\u001b[0m \u001b[32m━━━━━━━━━━━━━━━━━━━━\u001b[0m\u001b[37m\u001b[0m \u001b[1m5s\u001b[0m 5ms/step - accuracy: 0.3663 - loss: 3.0257\n",
      "Epoch 14/30\n",
      "\u001b[1m960/960\u001b[0m \u001b[32m━━━━━━━━━━━━━━━━━━━━\u001b[0m\u001b[37m\u001b[0m \u001b[1m5s\u001b[0m 5ms/step - accuracy: 0.4217 - loss: 2.7820\n",
      "Epoch 15/30\n",
      "\u001b[1m960/960\u001b[0m \u001b[32m━━━━━━━━━━━━━━━━━━━━\u001b[0m\u001b[37m\u001b[0m \u001b[1m5s\u001b[0m 5ms/step - accuracy: 0.4647 - loss: 2.5990\n",
      "Epoch 16/30\n",
      "\u001b[1m960/960\u001b[0m \u001b[32m━━━━━━━━━━━━━━━━━━━━\u001b[0m\u001b[37m\u001b[0m \u001b[1m5s\u001b[0m 5ms/step - accuracy: 0.4576 - loss: 2.6265\n",
      "Epoch 17/30\n",
      "\u001b[1m960/960\u001b[0m \u001b[32m━━━━━━━━━━━━━━━━━━━━\u001b[0m\u001b[37m\u001b[0m \u001b[1m6s\u001b[0m 6ms/step - accuracy: 0.5317 - loss: 2.2822\n",
      "Epoch 18/30\n",
      "\u001b[1m960/960\u001b[0m \u001b[32m━━━━━━━━━━━━━━━━━━━━\u001b[0m\u001b[37m\u001b[0m \u001b[1m6s\u001b[0m 6ms/step - accuracy: 0.5644 - loss: 2.1118\n",
      "Epoch 19/30\n",
      "\u001b[1m960/960\u001b[0m \u001b[32m━━━━━━━━━━━━━━━━━━━━\u001b[0m\u001b[37m\u001b[0m \u001b[1m6s\u001b[0m 6ms/step - accuracy: 0.6163 - loss: 1.9031\n",
      "Epoch 20/30\n",
      "\u001b[1m960/960\u001b[0m \u001b[32m━━━━━━━━━━━━━━━━━━━━\u001b[0m\u001b[37m\u001b[0m \u001b[1m6s\u001b[0m 6ms/step - accuracy: 0.6546 - loss: 1.7293\n",
      "Epoch 21/30\n",
      "\u001b[1m960/960\u001b[0m \u001b[32m━━━━━━━━━━━━━━━━━━━━\u001b[0m\u001b[37m\u001b[0m \u001b[1m6s\u001b[0m 6ms/step - accuracy: 0.6787 - loss: 1.6041\n",
      "Epoch 22/30\n",
      "\u001b[1m960/960\u001b[0m \u001b[32m━━━━━━━━━━━━━━━━━━━━\u001b[0m\u001b[37m\u001b[0m \u001b[1m5s\u001b[0m 6ms/step - accuracy: 0.6970 - loss: 1.5279\n",
      "Epoch 23/30\n",
      "\u001b[1m960/960\u001b[0m \u001b[32m━━━━━━━━━━━━━━━━━━━━\u001b[0m\u001b[37m\u001b[0m \u001b[1m5s\u001b[0m 6ms/step - accuracy: 0.7177 - loss: 1.4210\n",
      "Epoch 24/30\n",
      "\u001b[1m960/960\u001b[0m \u001b[32m━━━━━━━━━━━━━━━━━━━━\u001b[0m\u001b[37m\u001b[0m \u001b[1m5s\u001b[0m 6ms/step - accuracy: 0.7278 - loss: 1.3480\n",
      "Epoch 25/30\n",
      "\u001b[1m960/960\u001b[0m \u001b[32m━━━━━━━━━━━━━━━━━━━━\u001b[0m\u001b[37m\u001b[0m \u001b[1m5s\u001b[0m 6ms/step - accuracy: 0.7488 - loss: 1.2583\n",
      "Epoch 26/30\n",
      "\u001b[1m960/960\u001b[0m \u001b[32m━━━━━━━━━━━━━━━━━━━━\u001b[0m\u001b[37m\u001b[0m \u001b[1m5s\u001b[0m 6ms/step - accuracy: 0.7622 - loss: 1.1968\n",
      "Epoch 27/30\n",
      "\u001b[1m960/960\u001b[0m \u001b[32m━━━━━━━━━━━━━━━━━━━━\u001b[0m\u001b[37m\u001b[0m \u001b[1m5s\u001b[0m 6ms/step - accuracy: 0.7925 - loss: 1.0456\n",
      "Epoch 28/30\n",
      "\u001b[1m960/960\u001b[0m \u001b[32m━━━━━━━━━━━━━━━━━━━━\u001b[0m\u001b[37m\u001b[0m \u001b[1m5s\u001b[0m 6ms/step - accuracy: 0.8069 - loss: 0.9760\n",
      "Epoch 29/30\n",
      "\u001b[1m960/960\u001b[0m \u001b[32m━━━━━━━━━━━━━━━━━━━━\u001b[0m\u001b[37m\u001b[0m \u001b[1m6s\u001b[0m 6ms/step - accuracy: 0.7983 - loss: 0.9963\n",
      "Epoch 30/30\n",
      "\u001b[1m960/960\u001b[0m \u001b[32m━━━━━━━━━━━━━━━━━━━━\u001b[0m\u001b[37m\u001b[0m \u001b[1m6s\u001b[0m 6ms/step - accuracy: 0.8288 - loss: 0.8613\n"
     ]
    }
   ],
   "source": [
    "# Train the model\n",
    "history = model.fit(dataset, epochs=30, verbose=1)"
   ]
  },
  {
   "cell_type": "markdown",
   "metadata": {
    "deletable": false,
    "editable": false,
    "id": "gy72RPgly55q"
   },
   "source": [
    "**To pass this assignment, your model should achieve a training accuracy of at least 80%**. If your model didn't achieve this threshold, try training again with a different model architecture. Consider increasing the number of units in your `LSTM` layer."
   ]
  },
  {
   "cell_type": "code",
   "execution_count": 44,
   "metadata": {
    "deletable": false,
    "editable": false,
    "id": "1fXTEO3GJ282",
    "tags": []
   },
   "outputs": [
    {
     "data": {
      "image/png": "[encoded data removed]",
      "text/plain": [
       "<Figure size 1000x500 with 2 Axes>"
      ]
     },
     "metadata": {},
     "output_type": "display_data"
    }
   ],
   "source": [
    "# Get training and validation accuracies\n",
    "acc = history.history['accuracy']\n",
    "loss = history.history['loss']\n",
    "\n",
    "# Get number of epochs\n",
    "epochs = range(len(acc))\n",
    "\n",
    "fig, ax = plt.subplots(1, 2, figsize=(10, 5))\n",
    "fig.suptitle('Training performance - Accuracy and Loss')\n",
    "\n",
    "for i, (data, label) in enumerate(zip([acc,loss], [\"Accuracy\", \"Loss\"])):\n",
    "    ax[i].plot(epochs, data, label=label)\n",
    "    ax[i].legend()\n",
    "    ax[i].set_xlabel('epochs')"
   ]
  },
  {
   "cell_type": "markdown",
   "metadata": {
    "deletable": false,
    "editable": false,
    "id": "OjvED5A3qrn2"
   },
   "source": [
    "If the accuracy meets the requirement of being greater than 80%, then save the `history.pkl` file which contains the information of the training history of your model and will be used to compute your grade. You can do this by running the following code:"
   ]
  },
  {
   "cell_type": "code",
   "execution_count": 45,
   "metadata": {
    "deletable": false,
    "editable": false,
    "id": "9QRG73l6qE-c",
    "tags": []
   },
   "outputs": [],
   "source": [
    "with open('history.pkl', 'wb') as f:\n",
    "    pickle.dump(history.history, f)"
   ]
  },
  {
   "cell_type": "markdown",
   "metadata": {
    "deletable": false,
    "editable": false,
    "id": "wdsMszk9zBs_"
   },
   "source": [
    "## See your model in action\n",
    "\n",
    "After all your work it is finally time to see your model generating text. \n",
    "\n",
    "Run the cell below to generate the next 100 words of a seed text.\n",
    "\n",
    "After submitting your assignment you are encouraged to try out training for different amounts of epochs and seeing how this affects the coherency of the generated text. Also try changing the seed text to see what you get!"
   ]
  },
  {
   "cell_type": "code",
   "execution_count": 46,
   "metadata": {
    "deletable": false,
    "id": "6Vc6PHgxa6Hm",
    "tags": []
   },
   "outputs": [
    {
     "name": "stdout",
     "output_type": "stream",
     "text": [
      "Help me Obi Wan Kenobi, you're my only hope away dregs to side survive deathbed light even well now my amiss help gain gain centre erred erred pity deathbed crystal pity her woe life may tell my mind mistress best best deathbed exceeds told offenders correspondence sendst keep checkd gain end learn away even to none lovest me in my mistress eye eyes be loss of weeds stewards tenth grey constancy brand life still bright prove deceive tillage bright bright bright lies bright best cold cold bright bright olives scandal cold bright adjunct sacred cold sire learn deathbed end constancy constancy constancy gaze sound and see her little bright\n"
     ]
    }
   ],
   "source": [
    "seed_text = \"Help me Obi Wan Kenobi, you're my only hope\"\n",
    "next_words = 100\n",
    "  \n",
    "for _ in range(next_words):\n",
    "    # Convert the text into sequences\n",
    "    token_list = vectorizer(seed_text)\n",
    "    # Pad the sequences\n",
    "    token_list = tf.keras.utils.pad_sequences([token_list], maxlen=max_sequence_len-1, padding='pre')\n",
    "    # Get the probabilities of predicting a word\n",
    "    predicted = model.predict([token_list], verbose=0)\n",
    "    # Choose the next word based on the maximum probability\n",
    "    predicted = np.argmax(predicted, axis=-1).item()\n",
    "    # Get the actual word from the word index\n",
    "    output_word = vectorizer.get_vocabulary()[predicted]\n",
    "    # Append to the current text\n",
    "    seed_text += \" \" + output_word\n",
    "\n",
    "print(seed_text)"
   ]
  },
  {
   "cell_type": "markdown",
   "metadata": {
    "deletable": false,
    "editable": false,
    "id": "6r-X-HXtSc8N"
   },
   "source": [
    "**Congratulations on finishing this week's assignment!**\n",
    "\n",
    "You have successfully implemented a neural network capable of predicting the next word in a sequence of text!\n",
    "\n",
    "**We hope to see you in the next course of the specialization! Keep it up!**"
   ]
  },
  {
   "cell_type": "code",
   "execution_count": null,
   "metadata": {},
   "outputs": [],
   "source": []
  }
 ],
 "metadata": {
  "accelerator": "GPU",
  "colab": {
   "provenance": []
  },
  "dlai_version": "1.2.0",
  "grader_version": "1",
  "jupytext": {
   "main_language": "python"
  },
  "kernelspec": {
   "display_name": "Python 3 (ipykernel)",
   "language": "python",
   "name": "python3"
  },
  "language_info": {
   "codemirror_mode": {
    "name": "ipython",
    "version": 3
   },
   "file_extension": ".py",
   "mimetype": "text/x-python",
   "name": "python",
   "nbconvert_exporter": "python",
   "pygments_lexer": "ipython3",
   "version": "3.11.0rc1"
  }
 },
 "nbformat": 4,
 "nbformat_minor": 4
}
